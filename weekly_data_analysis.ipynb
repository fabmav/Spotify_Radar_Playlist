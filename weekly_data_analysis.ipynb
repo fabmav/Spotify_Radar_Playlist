{
 "cells": [
  {
   "cell_type": "code",
   "execution_count": null,
   "id": "0ded6ce9",
   "metadata": {},
   "outputs": [],
   "source": []
  },
  {
   "cell_type": "code",
   "execution_count": 6,
   "id": "33281a46",
   "metadata": {},
   "outputs": [],
   "source": [
    "import pandas as pd\n",
    "import matplotlib.pyplot as plt \n",
    "import os"
   ]
  },
  {
   "cell_type": "code",
   "execution_count": 7,
   "id": "dac65c8f",
   "metadata": {},
   "outputs": [],
   "source": [
    "current_dir = os.getcwd()"
   ]
  },
  {
   "cell_type": "code",
   "execution_count": null,
   "id": "9b5404f9",
   "metadata": {},
   "outputs": [],
   "source": [
    "try : \n",
    "    os.chdir(f'{current_dir}/Spotify_Radar_Playlist')\n",
    "except Exception as e : \n",
    "    None"
   ]
  },
  {
   "cell_type": "code",
   "execution_count": 9,
   "id": "5d665e4a",
   "metadata": {},
   "outputs": [
    {
     "data": {
      "text/plain": [
       "'c:\\\\Users\\\\bigbo\\\\Documents\\\\Computer Science\\\\00. Projets\\\\spotify_radar_playlist\\\\Spotify_Radar_Playlist'"
      ]
     },
     "execution_count": 9,
     "metadata": {},
     "output_type": "execute_result"
    }
   ],
   "source": [
    "os.getcwd()"
   ]
  },
  {
   "cell_type": "code",
   "execution_count": 18,
   "id": "03b13075",
   "metadata": {},
   "outputs": [],
   "source": [
    "df_track_info = pd.read_csv('stats/weekly_tracks_popularity.txt',sep=\";\")\n",
    "\n",
    "#for mapping artist name and id to trakcs\n",
    "df_track_artist = pd.read_csv('stats/weekly_tracks_artists.txt',sep=\";\")\n",
    "\n",
    "#artist number of followers and popularity\n",
    "df_artist_data = pd.read_csv('stats/weekly_artists_data.txt',sep=\",\")\n",
    "\n",
    "df_genre = pd.read_csv('stats/weekly_artists_genres_agg.txt',sep=\";\")\n",
    "\n"
   ]
  },
  {
   "cell_type": "code",
   "execution_count": null,
   "id": "d1640502",
   "metadata": {},
   "outputs": [],
   "source": [
    "df_spotify = df_track_info.merge(right=df_track_artist,on=\"track_id\")\n",
    "df_spotify = df_spotify.merge(right=df_artist_data,on=\"artist_id\")\n",
    "df_spotify = df_spotify.merge(right=df_genre,on=\"artist_id\")"
   ]
  },
  {
   "cell_type": "code",
   "execution_count": 20,
   "id": "8a014930",
   "metadata": {},
   "outputs": [
    {
     "data": {
      "text/html": [
       "<div>\n",
       "<style scoped>\n",
       "    .dataframe tbody tr th:only-of-type {\n",
       "        vertical-align: middle;\n",
       "    }\n",
       "\n",
       "    .dataframe tbody tr th {\n",
       "        vertical-align: top;\n",
       "    }\n",
       "\n",
       "    .dataframe thead th {\n",
       "        text-align: right;\n",
       "    }\n",
       "</style>\n",
       "<table border=\"1\" class=\"dataframe\">\n",
       "  <thead>\n",
       "    <tr style=\"text-align: right;\">\n",
       "      <th></th>\n",
       "      <th>track_id</th>\n",
       "      <th>popularity</th>\n",
       "      <th>track_name</th>\n",
       "      <th>artist_id</th>\n",
       "      <th>artist_name</th>\n",
       "      <th>total_follower</th>\n",
       "      <th>artist_popularity</th>\n",
       "      <th>artist_genres</th>\n",
       "      <th>artist_genre_main</th>\n",
       "    </tr>\n",
       "  </thead>\n",
       "  <tbody>\n",
       "    <tr>\n",
       "      <th>0</th>\n",
       "      <td>2OY0kiBOqudHNM0Dt0Z4Rf</td>\n",
       "      <td>21</td>\n",
       "      <td>Mood Ring</td>\n",
       "      <td>4eR9k3I0YKCQUvvP2ojptw</td>\n",
       "      <td>Joan Shelley</td>\n",
       "      <td>36012</td>\n",
       "      <td>37</td>\n",
       "      <td>[]</td>\n",
       "      <td>other</td>\n",
       "    </tr>\n",
       "    <tr>\n",
       "      <th>1</th>\n",
       "      <td>3F5OqjgjabK52aEaKnY73e</td>\n",
       "      <td>24</td>\n",
       "      <td>eric adams in the club</td>\n",
       "      <td>6tpaMMCs8X6o8j9H5OmWmT</td>\n",
       "      <td>Yaya Bey</td>\n",
       "      <td>115659</td>\n",
       "      <td>52</td>\n",
       "      <td>[]</td>\n",
       "      <td>other</td>\n",
       "    </tr>\n",
       "    <tr>\n",
       "      <th>2</th>\n",
       "      <td>3F5OqjgjabK52aEaKnY73e</td>\n",
       "      <td>24</td>\n",
       "      <td>eric adams in the club</td>\n",
       "      <td>1MRB7UrVK6DvvefA7pAqS8</td>\n",
       "      <td>Exaktly</td>\n",
       "      <td>106</td>\n",
       "      <td>17</td>\n",
       "      <td>[]</td>\n",
       "      <td>other</td>\n",
       "    </tr>\n",
       "    <tr>\n",
       "      <th>3</th>\n",
       "      <td>1iOaaSRsQModxydHxz96Np</td>\n",
       "      <td>2</td>\n",
       "      <td>Winds Of Change</td>\n",
       "      <td>33swwbOrC7iMmPF3TXGLNi</td>\n",
       "      <td>Aiza</td>\n",
       "      <td>6115</td>\n",
       "      <td>25</td>\n",
       "      <td>[]</td>\n",
       "      <td>other</td>\n",
       "    </tr>\n",
       "    <tr>\n",
       "      <th>4</th>\n",
       "      <td>1iOaaSRsQModxydHxz96Np</td>\n",
       "      <td>2</td>\n",
       "      <td>Winds Of Change</td>\n",
       "      <td>1SXilrjOlDsfjsSLP2mBFk</td>\n",
       "      <td>C The Reason</td>\n",
       "      <td>8</td>\n",
       "      <td>1</td>\n",
       "      <td>[]</td>\n",
       "      <td>other</td>\n",
       "    </tr>\n",
       "  </tbody>\n",
       "</table>\n",
       "</div>"
      ],
      "text/plain": [
       "                 track_id  popularity              track_name  \\\n",
       "0  2OY0kiBOqudHNM0Dt0Z4Rf          21               Mood Ring   \n",
       "1  3F5OqjgjabK52aEaKnY73e          24  eric adams in the club   \n",
       "2  3F5OqjgjabK52aEaKnY73e          24  eric adams in the club   \n",
       "3  1iOaaSRsQModxydHxz96Np           2         Winds Of Change   \n",
       "4  1iOaaSRsQModxydHxz96Np           2         Winds Of Change   \n",
       "\n",
       "                artist_id   artist_name  total_follower  artist_popularity  \\\n",
       "0  4eR9k3I0YKCQUvvP2ojptw  Joan Shelley           36012                 37   \n",
       "1  6tpaMMCs8X6o8j9H5OmWmT      Yaya Bey          115659                 52   \n",
       "2  1MRB7UrVK6DvvefA7pAqS8       Exaktly             106                 17   \n",
       "3  33swwbOrC7iMmPF3TXGLNi          Aiza            6115                 25   \n",
       "4  1SXilrjOlDsfjsSLP2mBFk  C The Reason               8                  1   \n",
       "\n",
       "  artist_genres artist_genre_main  \n",
       "0            []             other  \n",
       "1            []             other  \n",
       "2            []             other  \n",
       "3            []             other  \n",
       "4            []             other  "
      ]
     },
     "execution_count": 20,
     "metadata": {},
     "output_type": "execute_result"
    }
   ],
   "source": [
    "df_spotify.head()"
   ]
  },
  {
   "cell_type": "code",
   "execution_count": 21,
   "id": "a33f6876",
   "metadata": {},
   "outputs": [
    {
     "data": {
      "text/html": [
       "<div>\n",
       "<style scoped>\n",
       "    .dataframe tbody tr th:only-of-type {\n",
       "        vertical-align: middle;\n",
       "    }\n",
       "\n",
       "    .dataframe tbody tr th {\n",
       "        vertical-align: top;\n",
       "    }\n",
       "\n",
       "    .dataframe thead th {\n",
       "        text-align: right;\n",
       "    }\n",
       "</style>\n",
       "<table border=\"1\" class=\"dataframe\">\n",
       "  <thead>\n",
       "    <tr style=\"text-align: right;\">\n",
       "      <th></th>\n",
       "      <th>artist_genre_main</th>\n",
       "      <th>artist_id</th>\n",
       "    </tr>\n",
       "  </thead>\n",
       "  <tbody>\n",
       "    <tr>\n",
       "      <th>0</th>\n",
       "      <td>electro</td>\n",
       "      <td>55</td>\n",
       "    </tr>\n",
       "    <tr>\n",
       "      <th>1</th>\n",
       "      <td>folk_acoustic</td>\n",
       "      <td>11</td>\n",
       "    </tr>\n",
       "    <tr>\n",
       "      <th>2</th>\n",
       "      <td>hip_hop_rnb_soul_afro</td>\n",
       "      <td>167</td>\n",
       "    </tr>\n",
       "    <tr>\n",
       "      <th>3</th>\n",
       "      <td>jazz</td>\n",
       "      <td>18</td>\n",
       "    </tr>\n",
       "    <tr>\n",
       "      <th>4</th>\n",
       "      <td>metal</td>\n",
       "      <td>75</td>\n",
       "    </tr>\n",
       "  </tbody>\n",
       "</table>\n",
       "</div>"
      ],
      "text/plain": [
       "       artist_genre_main  artist_id\n",
       "0                electro         55\n",
       "1          folk_acoustic         11\n",
       "2  hip_hop_rnb_soul_afro        167\n",
       "3                   jazz         18\n",
       "4                  metal         75"
      ]
     },
     "execution_count": 21,
     "metadata": {},
     "output_type": "execute_result"
    }
   ],
   "source": [
    "df_genre_pie = df_spotify[['artist_id','artist_genre_main']].groupby(\"artist_genre_main\").count().reset_index()\n",
    "df_genre_pie.head()"
   ]
  },
  {
   "cell_type": "code",
   "execution_count": 22,
   "id": "33c24e9d",
   "metadata": {},
   "outputs": [
    {
     "data": {
      "image/png": "[encoded data removed]",
      "text/plain": [
       "<Figure size 640x480 with 1 Axes>"
      ]
     },
     "metadata": {},
     "output_type": "display_data"
    }
   ],
   "source": [
    "plt.figure()\n",
    "plt.pie(x=df_genre_pie['artist_id'],labels=df_genre_pie['artist_genre_main'])\n",
    "plt.show()"
   ]
  },
  {
   "cell_type": "markdown",
   "id": "3fccdcce",
   "metadata": {},
   "source": [
    "top 10 most popular tracks"
   ]
  },
  {
   "cell_type": "code",
   "execution_count": 26,
   "id": "d9db43fa",
   "metadata": {},
   "outputs": [
    {
     "data": {
      "text/html": [
       "<div>\n",
       "<style scoped>\n",
       "    .dataframe tbody tr th:only-of-type {\n",
       "        vertical-align: middle;\n",
       "    }\n",
       "\n",
       "    .dataframe tbody tr th {\n",
       "        vertical-align: top;\n",
       "    }\n",
       "\n",
       "    .dataframe thead th {\n",
       "        text-align: right;\n",
       "    }\n",
       "</style>\n",
       "<table border=\"1\" class=\"dataframe\">\n",
       "  <thead>\n",
       "    <tr style=\"text-align: right;\">\n",
       "      <th></th>\n",
       "      <th>track_name</th>\n",
       "      <th>popularity</th>\n",
       "    </tr>\n",
       "  </thead>\n",
       "  <tbody>\n",
       "    <tr>\n",
       "      <th>479</th>\n",
       "      <td>BIRDS OF A FEATHER</td>\n",
       "      <td>96</td>\n",
       "    </tr>\n",
       "    <tr>\n",
       "      <th>581</th>\n",
       "      <td>APT.</td>\n",
       "      <td>95</td>\n",
       "    </tr>\n",
       "    <tr>\n",
       "      <th>851</th>\n",
       "      <td>Timeless (with Playboi Carti)</td>\n",
       "      <td>93</td>\n",
       "    </tr>\n",
       "    <tr>\n",
       "      <th>28</th>\n",
       "      <td>Si Antes Te Hubiera Conocido</td>\n",
       "      <td>92</td>\n",
       "    </tr>\n",
       "    <tr>\n",
       "      <th>261</th>\n",
       "      <td>Good Luck, Babe!</td>\n",
       "      <td>92</td>\n",
       "    </tr>\n",
       "    <tr>\n",
       "      <th>289</th>\n",
       "      <td>Taste</td>\n",
       "      <td>90</td>\n",
       "    </tr>\n",
       "    <tr>\n",
       "      <th>603</th>\n",
       "      <td>Sticky (feat. GloRilla, Sexyy Red &amp; Lil Wayne)</td>\n",
       "      <td>89</td>\n",
       "    </tr>\n",
       "    <tr>\n",
       "      <th>511</th>\n",
       "      <td>PUSH 2 START</td>\n",
       "      <td>86</td>\n",
       "    </tr>\n",
       "    <tr>\n",
       "      <th>1030</th>\n",
       "      <td>30 For 30 (with Kendrick Lamar)</td>\n",
       "      <td>85</td>\n",
       "    </tr>\n",
       "    <tr>\n",
       "      <th>671</th>\n",
       "      <td>Disease</td>\n",
       "      <td>82</td>\n",
       "    </tr>\n",
       "  </tbody>\n",
       "</table>\n",
       "</div>"
      ],
      "text/plain": [
       "                                          track_name  popularity\n",
       "479                               BIRDS OF A FEATHER          96\n",
       "581                                             APT.          95\n",
       "851                    Timeless (with Playboi Carti)          93\n",
       "28                      Si Antes Te Hubiera Conocido          92\n",
       "261                                 Good Luck, Babe!          92\n",
       "289                                            Taste          90\n",
       "603   Sticky (feat. GloRilla, Sexyy Red & Lil Wayne)          89\n",
       "511                                     PUSH 2 START          86\n",
       "1030                 30 For 30 (with Kendrick Lamar)          85\n",
       "671                                          Disease          82"
      ]
     },
     "execution_count": 26,
     "metadata": {},
     "output_type": "execute_result"
    }
   ],
   "source": [
    "df_popular_track = df_spotify[['track_name','popularity']].drop_duplicates(subset=\"track_name\").sort_values(by=\"popularity\",ascending=False).head(10)\n",
    "df_popular_track.head(10)"
   ]
  }
 ],
 "metadata": {
  "kernelspec": {
   "display_name": ".venv",
   "language": "python",
   "name": "python3"
  },
  "language_info": {
   "codemirror_mode": {
    "name": "ipython",
    "version": 3
   },
   "file_extension": ".py",
   "mimetype": "text/x-python",
   "name": "python",
   "nbconvert_exporter": "python",
   "pygments_lexer": "ipython3",
   "version": "3.10.11"
  }
 },
 "nbformat": 4,
 "nbformat_minor": 5
}

{
 "cells": [
  {
   "cell_type": "code",
   "execution_count": 5,
   "metadata": {},
   "outputs": [],
   "source": [
    "# !pip install plotly\n",
    "import pandas as pd\n",
    "import os"
   ]
  },
  {
   "cell_type": "code",
   "execution_count": 38,
   "metadata": {},
   "outputs": [],
   "source": [
    "import pandas as pd\n",
    "import numpy as np\n",
    "import matplotlib.pyplot as plt\n",
    "import seaborn as sns\n",
    "import statsmodels.api as sm\n",
    "import statsmodels.formula.api as smf\n",
    "from statsmodels.stats.multicomp import pairwise_tukeyhsd\n",
    "import scipy.stats as sp\n",
    "import plotly.express as px\n",
    "%matplotlib inline"
   ]
  },
  {
   "cell_type": "code",
   "execution_count": 6,
   "metadata": {},
   "outputs": [
    {
     "data": {
      "text/plain": [
       "'c:\\\\Users\\\\bigbo\\\\Documents\\\\Computer Science\\\\00. Projets\\\\spotify_radar_playlist\\\\Spotify_Radar_Playlist'"
      ]
     },
     "execution_count": 6,
     "metadata": {},
     "output_type": "execute_result"
    }
   ],
   "source": [
    "os.getcwd()"
   ]
  },
  {
   "cell_type": "code",
   "execution_count": 4,
   "metadata": {},
   "outputs": [
    {
     "data": {
      "text/html": [
       "<div>\n",
       "<style scoped>\n",
       "    .dataframe tbody tr th:only-of-type {\n",
       "        vertical-align: middle;\n",
       "    }\n",
       "\n",
       "    .dataframe tbody tr th {\n",
       "        vertical-align: top;\n",
       "    }\n",
       "\n",
       "    .dataframe thead th {\n",
       "        text-align: right;\n",
       "    }\n",
       "</style>\n",
       "<table border=\"1\" class=\"dataframe\">\n",
       "  <thead>\n",
       "    <tr style=\"text-align: right;\">\n",
       "      <th></th>\n",
       "      <th>track_id</th>\n",
       "      <th>danceability</th>\n",
       "      <th>energy</th>\n",
       "      <th>key</th>\n",
       "      <th>loudness</th>\n",
       "      <th>mode</th>\n",
       "      <th>valence</th>\n",
       "      <th>tempo</th>\n",
       "      <th>duration_ms</th>\n",
       "      <th>time_signature</th>\n",
       "    </tr>\n",
       "  </thead>\n",
       "  <tbody>\n",
       "    <tr>\n",
       "      <th>0</th>\n",
       "      <td>2OY0kiBOqudHNM0Dt0Z4Rf</td>\n",
       "      <td>0.292</td>\n",
       "      <td>0.0911</td>\n",
       "      <td>8</td>\n",
       "      <td>-16.283</td>\n",
       "      <td>1</td>\n",
       "      <td>0.0884</td>\n",
       "      <td>146.807</td>\n",
       "      <td>185987</td>\n",
       "      <td>4</td>\n",
       "    </tr>\n",
       "    <tr>\n",
       "      <th>1</th>\n",
       "      <td>4Nk10X45JIH1xrIWOCbA3I</td>\n",
       "      <td>0.541</td>\n",
       "      <td>0.7980</td>\n",
       "      <td>0</td>\n",
       "      <td>-4.780</td>\n",
       "      <td>1</td>\n",
       "      <td>0.7210</td>\n",
       "      <td>144.059</td>\n",
       "      <td>363139</td>\n",
       "      <td>4</td>\n",
       "    </tr>\n",
       "    <tr>\n",
       "      <th>2</th>\n",
       "      <td>3F5OqjgjabK52aEaKnY73e</td>\n",
       "      <td>0.503</td>\n",
       "      <td>0.4630</td>\n",
       "      <td>1</td>\n",
       "      <td>-11.484</td>\n",
       "      <td>0</td>\n",
       "      <td>0.0791</td>\n",
       "      <td>139.822</td>\n",
       "      <td>136982</td>\n",
       "      <td>4</td>\n",
       "    </tr>\n",
       "    <tr>\n",
       "      <th>3</th>\n",
       "      <td>7rYAJwAZ7gokGokrsfrOQ5</td>\n",
       "      <td>0.866</td>\n",
       "      <td>0.8250</td>\n",
       "      <td>8</td>\n",
       "      <td>-4.903</td>\n",
       "      <td>1</td>\n",
       "      <td>0.7670</td>\n",
       "      <td>117.020</td>\n",
       "      <td>179666</td>\n",
       "      <td>4</td>\n",
       "    </tr>\n",
       "    <tr>\n",
       "      <th>4</th>\n",
       "      <td>6jlG8gBPNAgBgoivw2Ig09</td>\n",
       "      <td>0.904</td>\n",
       "      <td>0.4520</td>\n",
       "      <td>9</td>\n",
       "      <td>-7.272</td>\n",
       "      <td>1</td>\n",
       "      <td>0.6130</td>\n",
       "      <td>90.026</td>\n",
       "      <td>130944</td>\n",
       "      <td>4</td>\n",
       "    </tr>\n",
       "  </tbody>\n",
       "</table>\n",
       "</div>"
      ],
      "text/plain": [
       "                 track_id  danceability  energy  key  loudness  mode  valence  \\\n",
       "0  2OY0kiBOqudHNM0Dt0Z4Rf         0.292  0.0911    8   -16.283     1   0.0884   \n",
       "1  4Nk10X45JIH1xrIWOCbA3I         0.541  0.7980    0    -4.780     1   0.7210   \n",
       "2  3F5OqjgjabK52aEaKnY73e         0.503  0.4630    1   -11.484     0   0.0791   \n",
       "3  7rYAJwAZ7gokGokrsfrOQ5         0.866  0.8250    8    -4.903     1   0.7670   \n",
       "4  6jlG8gBPNAgBgoivw2Ig09         0.904  0.4520    9    -7.272     1   0.6130   \n",
       "\n",
       "     tempo  duration_ms  time_signature  \n",
       "0  146.807       185987               4  \n",
       "1  144.059       363139               4  \n",
       "2  139.822       136982               4  \n",
       "3  117.020       179666               4  \n",
       "4   90.026       130944               4  "
      ]
     },
     "execution_count": 4,
     "metadata": {},
     "output_type": "execute_result"
    }
   ],
   "source": [
    "df=pd.read_csv('stats/stat_audio_features.txt')\n",
    "df.head()"
   ]
  },
  {
   "cell_type": "markdown",
   "metadata": {},
   "source": [
    "Valence, Energy and Danceability are intersting because these are somewhat subjective criteria defined by the spotify team.\n",
    "key and mode can be easily determined. The question is : does Spotify is right.\n",
    "loudness, tempo, duration are objective criteria that can be easily calculated.\n",
    "Let's add a combined score of danceability, energy and valence to get an overall idea of the mood of the music"
   ]
  },
  {
   "cell_type": "code",
   "execution_count": 40,
   "metadata": {},
   "outputs": [],
   "source": [
    "df['mood']= df['danceability']*df['energy']*df['valence']"
   ]
  },
  {
   "cell_type": "code",
   "execution_count": 41,
   "metadata": {},
   "outputs": [
    {
     "name": "stdout",
     "output_type": "stream",
     "text": [
      "<class 'pandas.core.frame.DataFrame'>\n",
      "RangeIndex: 562 entries, 0 to 561\n",
      "Data columns (total 11 columns):\n",
      " #   Column          Non-Null Count  Dtype  \n",
      "---  ------          --------------  -----  \n",
      " 0   track_id        562 non-null    object \n",
      " 1   danceability    562 non-null    float64\n",
      " 2   energy          562 non-null    float64\n",
      " 3   key             562 non-null    int64  \n",
      " 4   loudness        562 non-null    float64\n",
      " 5   mode            562 non-null    int64  \n",
      " 6   valence         562 non-null    float64\n",
      " 7   tempo           562 non-null    float64\n",
      " 8   duration_ms     562 non-null    int64  \n",
      " 9   time_signature  562 non-null    int64  \n",
      " 10  mood            562 non-null    float64\n",
      "dtypes: float64(6), int64(4), object(1)\n",
      "memory usage: 48.4+ KB\n"
     ]
    }
   ],
   "source": [
    "df.info()"
   ]
  },
  {
   "cell_type": "markdown",
   "metadata": {},
   "source": [
    "transforming key and mode in plain text. Converting milliseconds to seconds"
   ]
  },
  {
   "cell_type": "code",
   "execution_count": 42,
   "metadata": {},
   "outputs": [],
   "source": [
    "def minute_seconds(x) : \n",
    "    rounded = round(x/1000)\n",
    "    minutes = rounded//60\n",
    "    seconds = rounded%60\n",
    "    return str(str(minutes)+\"\"\"'\"\"\"+str(seconds))\n",
    "\n",
    "df['duration_seconds']=round(df['duration_ms']/1000)\n",
    "df[\"minute_seconds\"] = df[\"duration_ms\"].apply(minute_seconds)"
   ]
  },
  {
   "cell_type": "code",
   "execution_count": 43,
   "metadata": {},
   "outputs": [],
   "source": [
    "dico_mode = {0:\"minor\",1:\"major\"}\n",
    "df[\"major_minor\"]= df[\"mode\"].map(dico_mode)"
   ]
  },
  {
   "cell_type": "code",
   "execution_count": 44,
   "metadata": {},
   "outputs": [],
   "source": [
    "dico_key = {0:\"C\",1:\"C#\",2:\"D\",3:\"D#\",4:\"E\",5:\"F\",6:\"F#\",7:\"G\",8:\"G#\",9:\"A\",10:\"A#\",11:\"B,\"}\n",
    "df[\"key_name\"]= df[\"key\"].map(dico_key)"
   ]
  },
  {
   "cell_type": "code",
   "execution_count": 45,
   "metadata": {},
   "outputs": [],
   "source": [
    "\n",
    "df['key_mode'] = df['key_name'].str.cat(df['major_minor'],sep=' ')"
   ]
  },
  {
   "cell_type": "markdown",
   "metadata": {},
   "source": [
    "we can add more info by adding track popularity and track name(for readability)"
   ]
  },
  {
   "cell_type": "code",
   "execution_count": 46,
   "metadata": {},
   "outputs": [
    {
     "data": {
      "text/html": [
       "<div>\n",
       "<style scoped>\n",
       "    .dataframe tbody tr th:only-of-type {\n",
       "        vertical-align: middle;\n",
       "    }\n",
       "\n",
       "    .dataframe tbody tr th {\n",
       "        vertical-align: top;\n",
       "    }\n",
       "\n",
       "    .dataframe thead th {\n",
       "        text-align: right;\n",
       "    }\n",
       "</style>\n",
       "<table border=\"1\" class=\"dataframe\">\n",
       "  <thead>\n",
       "    <tr style=\"text-align: right;\">\n",
       "      <th></th>\n",
       "      <th>popularity</th>\n",
       "      <th>track_name</th>\n",
       "    </tr>\n",
       "    <tr>\n",
       "      <th>track_id</th>\n",
       "      <th></th>\n",
       "      <th></th>\n",
       "    </tr>\n",
       "  </thead>\n",
       "  <tbody>\n",
       "    <tr>\n",
       "      <th>2OY0kiBOqudHNM0Dt0Z4Rf</th>\n",
       "      <td>29</td>\n",
       "      <td>Mood Ring</td>\n",
       "    </tr>\n",
       "    <tr>\n",
       "      <th>4Nk10X45JIH1xrIWOCbA3I</th>\n",
       "      <td>52</td>\n",
       "      <td>Holy, Holy</td>\n",
       "    </tr>\n",
       "    <tr>\n",
       "      <th>3F5OqjgjabK52aEaKnY73e</th>\n",
       "      <td>22</td>\n",
       "      <td>eric adams in the club</td>\n",
       "    </tr>\n",
       "    <tr>\n",
       "      <th>7rYAJwAZ7gokGokrsfrOQ5</th>\n",
       "      <td>40</td>\n",
       "      <td>It Is What It Is</td>\n",
       "    </tr>\n",
       "    <tr>\n",
       "      <th>6jlG8gBPNAgBgoivw2Ig09</th>\n",
       "      <td>81</td>\n",
       "      <td>DEVIL IS A LIE</td>\n",
       "    </tr>\n",
       "  </tbody>\n",
       "</table>\n",
       "</div>"
      ],
      "text/plain": [
       "                        popularity              track_name\n",
       "track_id                                                  \n",
       "2OY0kiBOqudHNM0Dt0Z4Rf          29               Mood Ring\n",
       "4Nk10X45JIH1xrIWOCbA3I          52              Holy, Holy\n",
       "3F5OqjgjabK52aEaKnY73e          22  eric adams in the club\n",
       "7rYAJwAZ7gokGokrsfrOQ5          40        It Is What It Is\n",
       "6jlG8gBPNAgBgoivw2Ig09          81          DEVIL IS A LIE"
      ]
     },
     "execution_count": 46,
     "metadata": {},
     "output_type": "execute_result"
    }
   ],
   "source": [
    "df_tracks=pd.read_csv('stats/stat_tracks_popularity.txt',index_col='track_id',sep=\";\")\n",
    "df_tracks.head()"
   ]
  },
  {
   "cell_type": "code",
   "execution_count": 36,
   "metadata": {},
   "outputs": [
    {
     "data": {
      "text/html": [
       "<div>\n",
       "<style scoped>\n",
       "    .dataframe tbody tr th:only-of-type {\n",
       "        vertical-align: middle;\n",
       "    }\n",
       "\n",
       "    .dataframe tbody tr th {\n",
       "        vertical-align: top;\n",
       "    }\n",
       "\n",
       "    .dataframe thead th {\n",
       "        text-align: right;\n",
       "    }\n",
       "</style>\n",
       "<table border=\"1\" class=\"dataframe\">\n",
       "  <thead>\n",
       "    <tr style=\"text-align: right;\">\n",
       "      <th></th>\n",
       "      <th>track_id</th>\n",
       "      <th>danceability</th>\n",
       "      <th>energy</th>\n",
       "      <th>key</th>\n",
       "      <th>loudness</th>\n",
       "      <th>mode</th>\n",
       "      <th>valence</th>\n",
       "      <th>tempo</th>\n",
       "      <th>duration_ms</th>\n",
       "      <th>time_signature</th>\n",
       "      <th>mood</th>\n",
       "      <th>major_minor</th>\n",
       "      <th>key_name</th>\n",
       "      <th>key_mode</th>\n",
       "      <th>popularity</th>\n",
       "      <th>track_name</th>\n",
       "    </tr>\n",
       "  </thead>\n",
       "  <tbody>\n",
       "    <tr>\n",
       "      <th>0</th>\n",
       "      <td>2OY0kiBOqudHNM0Dt0Z4Rf</td>\n",
       "      <td>0.292</td>\n",
       "      <td>0.0911</td>\n",
       "      <td>8</td>\n",
       "      <td>-16.283</td>\n",
       "      <td>1</td>\n",
       "      <td>0.0884</td>\n",
       "      <td>146.807</td>\n",
       "      <td>185987</td>\n",
       "      <td>4</td>\n",
       "      <td>0.002352</td>\n",
       "      <td>major</td>\n",
       "      <td>G#</td>\n",
       "      <td>G# major</td>\n",
       "      <td>29</td>\n",
       "      <td>Mood Ring</td>\n",
       "    </tr>\n",
       "    <tr>\n",
       "      <th>1</th>\n",
       "      <td>4Nk10X45JIH1xrIWOCbA3I</td>\n",
       "      <td>0.541</td>\n",
       "      <td>0.7980</td>\n",
       "      <td>0</td>\n",
       "      <td>-4.780</td>\n",
       "      <td>1</td>\n",
       "      <td>0.7210</td>\n",
       "      <td>144.059</td>\n",
       "      <td>363139</td>\n",
       "      <td>4</td>\n",
       "      <td>0.311269</td>\n",
       "      <td>major</td>\n",
       "      <td>C</td>\n",
       "      <td>C major</td>\n",
       "      <td>52</td>\n",
       "      <td>Holy, Holy</td>\n",
       "    </tr>\n",
       "    <tr>\n",
       "      <th>2</th>\n",
       "      <td>3F5OqjgjabK52aEaKnY73e</td>\n",
       "      <td>0.503</td>\n",
       "      <td>0.4630</td>\n",
       "      <td>1</td>\n",
       "      <td>-11.484</td>\n",
       "      <td>0</td>\n",
       "      <td>0.0791</td>\n",
       "      <td>139.822</td>\n",
       "      <td>136982</td>\n",
       "      <td>4</td>\n",
       "      <td>0.018422</td>\n",
       "      <td>minor</td>\n",
       "      <td>C#</td>\n",
       "      <td>C# minor</td>\n",
       "      <td>22</td>\n",
       "      <td>eric adams in the club</td>\n",
       "    </tr>\n",
       "    <tr>\n",
       "      <th>3</th>\n",
       "      <td>7rYAJwAZ7gokGokrsfrOQ5</td>\n",
       "      <td>0.866</td>\n",
       "      <td>0.8250</td>\n",
       "      <td>8</td>\n",
       "      <td>-4.903</td>\n",
       "      <td>1</td>\n",
       "      <td>0.7670</td>\n",
       "      <td>117.020</td>\n",
       "      <td>179666</td>\n",
       "      <td>4</td>\n",
       "      <td>0.547983</td>\n",
       "      <td>major</td>\n",
       "      <td>G#</td>\n",
       "      <td>G# major</td>\n",
       "      <td>40</td>\n",
       "      <td>It Is What It Is</td>\n",
       "    </tr>\n",
       "    <tr>\n",
       "      <th>4</th>\n",
       "      <td>6jlG8gBPNAgBgoivw2Ig09</td>\n",
       "      <td>0.904</td>\n",
       "      <td>0.4520</td>\n",
       "      <td>9</td>\n",
       "      <td>-7.272</td>\n",
       "      <td>1</td>\n",
       "      <td>0.6130</td>\n",
       "      <td>90.026</td>\n",
       "      <td>130944</td>\n",
       "      <td>4</td>\n",
       "      <td>0.250477</td>\n",
       "      <td>major</td>\n",
       "      <td>A</td>\n",
       "      <td>A major</td>\n",
       "      <td>81</td>\n",
       "      <td>DEVIL IS A LIE</td>\n",
       "    </tr>\n",
       "  </tbody>\n",
       "</table>\n",
       "</div>"
      ],
      "text/plain": [
       "                 track_id  danceability  energy  key  loudness  mode  valence   \n",
       "0  2OY0kiBOqudHNM0Dt0Z4Rf         0.292  0.0911    8   -16.283     1   0.0884  \\\n",
       "1  4Nk10X45JIH1xrIWOCbA3I         0.541  0.7980    0    -4.780     1   0.7210   \n",
       "2  3F5OqjgjabK52aEaKnY73e         0.503  0.4630    1   -11.484     0   0.0791   \n",
       "3  7rYAJwAZ7gokGokrsfrOQ5         0.866  0.8250    8    -4.903     1   0.7670   \n",
       "4  6jlG8gBPNAgBgoivw2Ig09         0.904  0.4520    9    -7.272     1   0.6130   \n",
       "\n",
       "     tempo  duration_ms  time_signature      mood major_minor key_name   \n",
       "0  146.807       185987               4  0.002352       major       G#  \\\n",
       "1  144.059       363139               4  0.311269       major        C   \n",
       "2  139.822       136982               4  0.018422       minor       C#   \n",
       "3  117.020       179666               4  0.547983       major       G#   \n",
       "4   90.026       130944               4  0.250477       major        A   \n",
       "\n",
       "   key_mode  popularity              track_name  \n",
       "0  G# major          29               Mood Ring  \n",
       "1   C major          52              Holy, Holy  \n",
       "2  C# minor          22  eric adams in the club  \n",
       "3  G# major          40        It Is What It Is  \n",
       "4   A major          81          DEVIL IS A LIE  "
      ]
     },
     "execution_count": 36,
     "metadata": {},
     "output_type": "execute_result"
    }
   ],
   "source": [
    "df = df.merge(right = df_tracks,on=\"track_id\")\n",
    "df.head()"
   ]
  },
  {
   "cell_type": "markdown",
   "metadata": {},
   "source": [
    "let's add artist data and associated genre"
   ]
  },
  {
   "cell_type": "code",
   "execution_count": 47,
   "metadata": {},
   "outputs": [
    {
     "data": {
      "text/html": [
       "<div>\n",
       "<style scoped>\n",
       "    .dataframe tbody tr th:only-of-type {\n",
       "        vertical-align: middle;\n",
       "    }\n",
       "\n",
       "    .dataframe tbody tr th {\n",
       "        vertical-align: top;\n",
       "    }\n",
       "\n",
       "    .dataframe thead th {\n",
       "        text-align: right;\n",
       "    }\n",
       "</style>\n",
       "<table border=\"1\" class=\"dataframe\">\n",
       "  <thead>\n",
       "    <tr style=\"text-align: right;\">\n",
       "      <th></th>\n",
       "      <th>track_id</th>\n",
       "      <th>danceability</th>\n",
       "      <th>energy</th>\n",
       "      <th>key</th>\n",
       "      <th>loudness</th>\n",
       "      <th>mode</th>\n",
       "      <th>valence</th>\n",
       "      <th>tempo</th>\n",
       "      <th>duration_ms</th>\n",
       "      <th>time_signature</th>\n",
       "      <th>...</th>\n",
       "      <th>minute_seconds</th>\n",
       "      <th>major_minor</th>\n",
       "      <th>key_name</th>\n",
       "      <th>key_mode</th>\n",
       "      <th>artist_id</th>\n",
       "      <th>artist_name</th>\n",
       "      <th>total_follower</th>\n",
       "      <th>artist_popularity</th>\n",
       "      <th>['artist_genres']</th>\n",
       "      <th>other</th>\n",
       "    </tr>\n",
       "  </thead>\n",
       "  <tbody>\n",
       "    <tr>\n",
       "      <th>0</th>\n",
       "      <td>2OY0kiBOqudHNM0Dt0Z4Rf</td>\n",
       "      <td>0.292</td>\n",
       "      <td>0.0911</td>\n",
       "      <td>8</td>\n",
       "      <td>-16.283</td>\n",
       "      <td>1</td>\n",
       "      <td>0.0884</td>\n",
       "      <td>146.807</td>\n",
       "      <td>185987</td>\n",
       "      <td>4</td>\n",
       "      <td>...</td>\n",
       "      <td>3'6</td>\n",
       "      <td>major</td>\n",
       "      <td>G#</td>\n",
       "      <td>G# major</td>\n",
       "      <td>4eR9k3I0YKCQUvvP2ojptw</td>\n",
       "      <td>Joan Shelley</td>\n",
       "      <td>34983</td>\n",
       "      <td>40</td>\n",
       "      <td>['new americana']</td>\n",
       "      <td>folk_acoustic</td>\n",
       "    </tr>\n",
       "    <tr>\n",
       "      <th>1</th>\n",
       "      <td>3F5OqjgjabK52aEaKnY73e</td>\n",
       "      <td>0.503</td>\n",
       "      <td>0.4630</td>\n",
       "      <td>1</td>\n",
       "      <td>-11.484</td>\n",
       "      <td>0</td>\n",
       "      <td>0.0791</td>\n",
       "      <td>139.822</td>\n",
       "      <td>136982</td>\n",
       "      <td>4</td>\n",
       "      <td>...</td>\n",
       "      <td>2'17</td>\n",
       "      <td>minor</td>\n",
       "      <td>C#</td>\n",
       "      <td>C# minor</td>\n",
       "      <td>6tpaMMCs8X6o8j9H5OmWmT</td>\n",
       "      <td>Yaya Bey</td>\n",
       "      <td>109272</td>\n",
       "      <td>60</td>\n",
       "      <td>['experimental r&amp;b']</td>\n",
       "      <td>hip_hop_rnb_soul_afro</td>\n",
       "    </tr>\n",
       "    <tr>\n",
       "      <th>2</th>\n",
       "      <td>1iOaaSRsQModxydHxz96Np</td>\n",
       "      <td>0.789</td>\n",
       "      <td>0.5180</td>\n",
       "      <td>0</td>\n",
       "      <td>-7.053</td>\n",
       "      <td>1</td>\n",
       "      <td>0.5660</td>\n",
       "      <td>115.938</td>\n",
       "      <td>177389</td>\n",
       "      <td>4</td>\n",
       "      <td>...</td>\n",
       "      <td>2'57</td>\n",
       "      <td>major</td>\n",
       "      <td>C</td>\n",
       "      <td>C major</td>\n",
       "      <td>33swwbOrC7iMmPF3TXGLNi</td>\n",
       "      <td>Aiza</td>\n",
       "      <td>5900</td>\n",
       "      <td>28</td>\n",
       "      <td>['high vibe']</td>\n",
       "      <td>other</td>\n",
       "    </tr>\n",
       "    <tr>\n",
       "      <th>3</th>\n",
       "      <td>7vxfuTRmmLcSQ7g2kOorvL</td>\n",
       "      <td>0.202</td>\n",
       "      <td>0.9060</td>\n",
       "      <td>11</td>\n",
       "      <td>-5.995</td>\n",
       "      <td>0</td>\n",
       "      <td>0.0888</td>\n",
       "      <td>92.563</td>\n",
       "      <td>316647</td>\n",
       "      <td>4</td>\n",
       "      <td>...</td>\n",
       "      <td>5'17</td>\n",
       "      <td>minor</td>\n",
       "      <td>B,</td>\n",
       "      <td>B, minor</td>\n",
       "      <td>1QcbaOVrpo91k6rHnzhMeA</td>\n",
       "      <td>dust</td>\n",
       "      <td>4890</td>\n",
       "      <td>21</td>\n",
       "      <td>['australian post-punk']</td>\n",
       "      <td>rock</td>\n",
       "    </tr>\n",
       "    <tr>\n",
       "      <th>4</th>\n",
       "      <td>1UcsKMDTZksX9AeVIQVL7j</td>\n",
       "      <td>0.468</td>\n",
       "      <td>0.8250</td>\n",
       "      <td>1</td>\n",
       "      <td>-5.756</td>\n",
       "      <td>1</td>\n",
       "      <td>0.7720</td>\n",
       "      <td>170.251</td>\n",
       "      <td>162639</td>\n",
       "      <td>4</td>\n",
       "      <td>...</td>\n",
       "      <td>2'43</td>\n",
       "      <td>major</td>\n",
       "      <td>C#</td>\n",
       "      <td>C# major</td>\n",
       "      <td>4meTRfbaVba24HXyBwbKJ0</td>\n",
       "      <td>Sycco</td>\n",
       "      <td>31661</td>\n",
       "      <td>46</td>\n",
       "      <td>['australian indigenous music']</td>\n",
       "      <td>other</td>\n",
       "    </tr>\n",
       "  </tbody>\n",
       "</table>\n",
       "<p>5 rows × 22 columns</p>\n",
       "</div>"
      ],
      "text/plain": [
       "                 track_id  danceability  energy  key  loudness  mode  valence   \n",
       "0  2OY0kiBOqudHNM0Dt0Z4Rf         0.292  0.0911    8   -16.283     1   0.0884  \\\n",
       "1  3F5OqjgjabK52aEaKnY73e         0.503  0.4630    1   -11.484     0   0.0791   \n",
       "2  1iOaaSRsQModxydHxz96Np         0.789  0.5180    0    -7.053     1   0.5660   \n",
       "3  7vxfuTRmmLcSQ7g2kOorvL         0.202  0.9060   11    -5.995     0   0.0888   \n",
       "4  1UcsKMDTZksX9AeVIQVL7j         0.468  0.8250    1    -5.756     1   0.7720   \n",
       "\n",
       "     tempo  duration_ms  time_signature  ...  minute_seconds  major_minor   \n",
       "0  146.807       185987               4  ...             3'6        major  \\\n",
       "1  139.822       136982               4  ...            2'17        minor   \n",
       "2  115.938       177389               4  ...            2'57        major   \n",
       "3   92.563       316647               4  ...            5'17        minor   \n",
       "4  170.251       162639               4  ...            2'43        major   \n",
       "\n",
       "  key_name  key_mode               artist_id   artist_name total_follower   \n",
       "0       G#  G# major  4eR9k3I0YKCQUvvP2ojptw  Joan Shelley          34983  \\\n",
       "1       C#  C# minor  6tpaMMCs8X6o8j9H5OmWmT      Yaya Bey         109272   \n",
       "2        C   C major  33swwbOrC7iMmPF3TXGLNi          Aiza           5900   \n",
       "3       B,  B, minor  1QcbaOVrpo91k6rHnzhMeA          dust           4890   \n",
       "4       C#  C# major  4meTRfbaVba24HXyBwbKJ0         Sycco          31661   \n",
       "\n",
       "  artist_popularity                ['artist_genres']                  other  \n",
       "0                40                ['new americana']          folk_acoustic  \n",
       "1                60             ['experimental r&b']  hip_hop_rnb_soul_afro  \n",
       "2                28                    ['high vibe']                  other  \n",
       "3                21         ['australian post-punk']                   rock  \n",
       "4                46  ['australian indigenous music']                  other  \n",
       "\n",
       "[5 rows x 22 columns]"
      ]
     },
     "execution_count": 47,
     "metadata": {},
     "output_type": "execute_result"
    }
   ],
   "source": [
    "df_artist=pd.read_csv('stats/stat_tracks_artists.txt',index_col='track_id',sep=\";\")\n",
    "df_artist_data=pd.read_csv('stats/stat_artists_data.txt',sep=\",\")\n",
    "df_artist_genre=pd.read_csv('stats/stat_artists_genres_agg.txt',sep=\",\")\n",
    "df = df.merge(right = df_artist,on=\"track_id\")\n",
    "df = df.merge(right = df_artist_data,on=\"artist_id\",)\n",
    "df = df.merge(right = df_artist_genre,on=\"artist_id\")\n",
    "df.head()"
   ]
  },
  {
   "cell_type": "code",
   "execution_count": 48,
   "metadata": {},
   "outputs": [
    {
     "data": {
      "text/html": [
       "<div>\n",
       "<style scoped>\n",
       "    .dataframe tbody tr th:only-of-type {\n",
       "        vertical-align: middle;\n",
       "    }\n",
       "\n",
       "    .dataframe tbody tr th {\n",
       "        vertical-align: top;\n",
       "    }\n",
       "\n",
       "    .dataframe thead th {\n",
       "        text-align: right;\n",
       "    }\n",
       "</style>\n",
       "<table border=\"1\" class=\"dataframe\">\n",
       "  <thead>\n",
       "    <tr style=\"text-align: right;\">\n",
       "      <th></th>\n",
       "      <th>track_id</th>\n",
       "      <th>danceability</th>\n",
       "      <th>energy</th>\n",
       "      <th>key</th>\n",
       "      <th>loudness</th>\n",
       "      <th>mode</th>\n",
       "      <th>valence</th>\n",
       "      <th>tempo</th>\n",
       "      <th>duration_ms</th>\n",
       "      <th>time_signature</th>\n",
       "      <th>...</th>\n",
       "      <th>minute_seconds</th>\n",
       "      <th>major_minor</th>\n",
       "      <th>key_name</th>\n",
       "      <th>key_mode</th>\n",
       "      <th>artist_id</th>\n",
       "      <th>artist_name</th>\n",
       "      <th>total_follower</th>\n",
       "      <th>artist_popularity</th>\n",
       "      <th>['artist_genres']</th>\n",
       "      <th>other</th>\n",
       "    </tr>\n",
       "  </thead>\n",
       "  <tbody>\n",
       "    <tr>\n",
       "      <th>count</th>\n",
       "      <td>467</td>\n",
       "      <td>467.000000</td>\n",
       "      <td>467.000000</td>\n",
       "      <td>467.000000</td>\n",
       "      <td>467.000000</td>\n",
       "      <td>467.000000</td>\n",
       "      <td>467.000000</td>\n",
       "      <td>467.000000</td>\n",
       "      <td>467.000000</td>\n",
       "      <td>467.000000</td>\n",
       "      <td>...</td>\n",
       "      <td>467</td>\n",
       "      <td>467</td>\n",
       "      <td>467</td>\n",
       "      <td>467</td>\n",
       "      <td>467</td>\n",
       "      <td>467</td>\n",
       "      <td>4.670000e+02</td>\n",
       "      <td>467.000000</td>\n",
       "      <td>467</td>\n",
       "      <td>467</td>\n",
       "    </tr>\n",
       "    <tr>\n",
       "      <th>unique</th>\n",
       "      <td>371</td>\n",
       "      <td>NaN</td>\n",
       "      <td>NaN</td>\n",
       "      <td>NaN</td>\n",
       "      <td>NaN</td>\n",
       "      <td>NaN</td>\n",
       "      <td>NaN</td>\n",
       "      <td>NaN</td>\n",
       "      <td>NaN</td>\n",
       "      <td>NaN</td>\n",
       "      <td>...</td>\n",
       "      <td>190</td>\n",
       "      <td>2</td>\n",
       "      <td>12</td>\n",
       "      <td>24</td>\n",
       "      <td>467</td>\n",
       "      <td>467</td>\n",
       "      <td>NaN</td>\n",
       "      <td>NaN</td>\n",
       "      <td>275</td>\n",
       "      <td>8</td>\n",
       "    </tr>\n",
       "    <tr>\n",
       "      <th>top</th>\n",
       "      <td>1kJK2dkXbMw8yOMFEuJUm7</td>\n",
       "      <td>NaN</td>\n",
       "      <td>NaN</td>\n",
       "      <td>NaN</td>\n",
       "      <td>NaN</td>\n",
       "      <td>NaN</td>\n",
       "      <td>NaN</td>\n",
       "      <td>NaN</td>\n",
       "      <td>NaN</td>\n",
       "      <td>NaN</td>\n",
       "      <td>...</td>\n",
       "      <td>3'33</td>\n",
       "      <td>major</td>\n",
       "      <td>C#</td>\n",
       "      <td>C# major</td>\n",
       "      <td>4eR9k3I0YKCQUvvP2ojptw</td>\n",
       "      <td>Joan Shelley</td>\n",
       "      <td>NaN</td>\n",
       "      <td>NaN</td>\n",
       "      <td>['pov: indie']</td>\n",
       "      <td>hip_hop_rnb_soul_afro</td>\n",
       "    </tr>\n",
       "    <tr>\n",
       "      <th>freq</th>\n",
       "      <td>5</td>\n",
       "      <td>NaN</td>\n",
       "      <td>NaN</td>\n",
       "      <td>NaN</td>\n",
       "      <td>NaN</td>\n",
       "      <td>NaN</td>\n",
       "      <td>NaN</td>\n",
       "      <td>NaN</td>\n",
       "      <td>NaN</td>\n",
       "      <td>NaN</td>\n",
       "      <td>...</td>\n",
       "      <td>13</td>\n",
       "      <td>291</td>\n",
       "      <td>71</td>\n",
       "      <td>48</td>\n",
       "      <td>1</td>\n",
       "      <td>1</td>\n",
       "      <td>NaN</td>\n",
       "      <td>NaN</td>\n",
       "      <td>9</td>\n",
       "      <td>122</td>\n",
       "    </tr>\n",
       "    <tr>\n",
       "      <th>mean</th>\n",
       "      <td>NaN</td>\n",
       "      <td>0.588173</td>\n",
       "      <td>0.689737</td>\n",
       "      <td>5.323340</td>\n",
       "      <td>-7.351274</td>\n",
       "      <td>0.623126</td>\n",
       "      <td>0.465539</td>\n",
       "      <td>122.473006</td>\n",
       "      <td>213931.034261</td>\n",
       "      <td>3.974304</td>\n",
       "      <td>...</td>\n",
       "      <td>NaN</td>\n",
       "      <td>NaN</td>\n",
       "      <td>NaN</td>\n",
       "      <td>NaN</td>\n",
       "      <td>NaN</td>\n",
       "      <td>NaN</td>\n",
       "      <td>2.251265e+06</td>\n",
       "      <td>52.004283</td>\n",
       "      <td>NaN</td>\n",
       "      <td>NaN</td>\n",
       "    </tr>\n",
       "    <tr>\n",
       "      <th>std</th>\n",
       "      <td>NaN</td>\n",
       "      <td>0.180486</td>\n",
       "      <td>0.198749</td>\n",
       "      <td>3.791275</td>\n",
       "      <td>3.143080</td>\n",
       "      <td>0.485123</td>\n",
       "      <td>0.233629</td>\n",
       "      <td>27.604045</td>\n",
       "      <td>71934.350663</td>\n",
       "      <td>0.333056</td>\n",
       "      <td>...</td>\n",
       "      <td>NaN</td>\n",
       "      <td>NaN</td>\n",
       "      <td>NaN</td>\n",
       "      <td>NaN</td>\n",
       "      <td>NaN</td>\n",
       "      <td>NaN</td>\n",
       "      <td>1.091238e+07</td>\n",
       "      <td>18.007032</td>\n",
       "      <td>NaN</td>\n",
       "      <td>NaN</td>\n",
       "    </tr>\n",
       "    <tr>\n",
       "      <th>min</th>\n",
       "      <td>NaN</td>\n",
       "      <td>0.102000</td>\n",
       "      <td>0.077500</td>\n",
       "      <td>0.000000</td>\n",
       "      <td>-23.078000</td>\n",
       "      <td>0.000000</td>\n",
       "      <td>0.037800</td>\n",
       "      <td>66.601000</td>\n",
       "      <td>57314.000000</td>\n",
       "      <td>1.000000</td>\n",
       "      <td>...</td>\n",
       "      <td>NaN</td>\n",
       "      <td>NaN</td>\n",
       "      <td>NaN</td>\n",
       "      <td>NaN</td>\n",
       "      <td>NaN</td>\n",
       "      <td>NaN</td>\n",
       "      <td>7.750000e+02</td>\n",
       "      <td>9.000000</td>\n",
       "      <td>NaN</td>\n",
       "      <td>NaN</td>\n",
       "    </tr>\n",
       "    <tr>\n",
       "      <th>25%</th>\n",
       "      <td>NaN</td>\n",
       "      <td>0.456500</td>\n",
       "      <td>0.576500</td>\n",
       "      <td>1.000000</td>\n",
       "      <td>-8.937500</td>\n",
       "      <td>0.000000</td>\n",
       "      <td>0.278500</td>\n",
       "      <td>99.022000</td>\n",
       "      <td>168000.000000</td>\n",
       "      <td>4.000000</td>\n",
       "      <td>...</td>\n",
       "      <td>NaN</td>\n",
       "      <td>NaN</td>\n",
       "      <td>NaN</td>\n",
       "      <td>NaN</td>\n",
       "      <td>NaN</td>\n",
       "      <td>NaN</td>\n",
       "      <td>2.640050e+04</td>\n",
       "      <td>39.000000</td>\n",
       "      <td>NaN</td>\n",
       "      <td>NaN</td>\n",
       "    </tr>\n",
       "    <tr>\n",
       "      <th>50%</th>\n",
       "      <td>NaN</td>\n",
       "      <td>0.600000</td>\n",
       "      <td>0.722000</td>\n",
       "      <td>5.000000</td>\n",
       "      <td>-6.834000</td>\n",
       "      <td>1.000000</td>\n",
       "      <td>0.456000</td>\n",
       "      <td>122.994000</td>\n",
       "      <td>202000.000000</td>\n",
       "      <td>4.000000</td>\n",
       "      <td>...</td>\n",
       "      <td>NaN</td>\n",
       "      <td>NaN</td>\n",
       "      <td>NaN</td>\n",
       "      <td>NaN</td>\n",
       "      <td>NaN</td>\n",
       "      <td>NaN</td>\n",
       "      <td>1.092720e+05</td>\n",
       "      <td>53.000000</td>\n",
       "      <td>NaN</td>\n",
       "      <td>NaN</td>\n",
       "    </tr>\n",
       "    <tr>\n",
       "      <th>75%</th>\n",
       "      <td>NaN</td>\n",
       "      <td>0.724500</td>\n",
       "      <td>0.843000</td>\n",
       "      <td>9.000000</td>\n",
       "      <td>-5.050000</td>\n",
       "      <td>1.000000</td>\n",
       "      <td>0.628000</td>\n",
       "      <td>141.626000</td>\n",
       "      <td>239891.000000</td>\n",
       "      <td>4.000000</td>\n",
       "      <td>...</td>\n",
       "      <td>NaN</td>\n",
       "      <td>NaN</td>\n",
       "      <td>NaN</td>\n",
       "      <td>NaN</td>\n",
       "      <td>NaN</td>\n",
       "      <td>NaN</td>\n",
       "      <td>5.699455e+05</td>\n",
       "      <td>65.000000</td>\n",
       "      <td>NaN</td>\n",
       "      <td>NaN</td>\n",
       "    </tr>\n",
       "    <tr>\n",
       "      <th>max</th>\n",
       "      <td>NaN</td>\n",
       "      <td>0.957000</td>\n",
       "      <td>0.997000</td>\n",
       "      <td>11.000000</td>\n",
       "      <td>-0.039000</td>\n",
       "      <td>1.000000</td>\n",
       "      <td>0.972000</td>\n",
       "      <td>200.499000</td>\n",
       "      <td>595161.000000</td>\n",
       "      <td>5.000000</td>\n",
       "      <td>...</td>\n",
       "      <td>NaN</td>\n",
       "      <td>NaN</td>\n",
       "      <td>NaN</td>\n",
       "      <td>NaN</td>\n",
       "      <td>NaN</td>\n",
       "      <td>NaN</td>\n",
       "      <td>1.239193e+08</td>\n",
       "      <td>100.000000</td>\n",
       "      <td>NaN</td>\n",
       "      <td>NaN</td>\n",
       "    </tr>\n",
       "  </tbody>\n",
       "</table>\n",
       "<p>11 rows × 22 columns</p>\n",
       "</div>"
      ],
      "text/plain": [
       "                      track_id  danceability      energy         key   \n",
       "count                      467    467.000000  467.000000  467.000000  \\\n",
       "unique                     371           NaN         NaN         NaN   \n",
       "top     1kJK2dkXbMw8yOMFEuJUm7           NaN         NaN         NaN   \n",
       "freq                         5           NaN         NaN         NaN   \n",
       "mean                       NaN      0.588173    0.689737    5.323340   \n",
       "std                        NaN      0.180486    0.198749    3.791275   \n",
       "min                        NaN      0.102000    0.077500    0.000000   \n",
       "25%                        NaN      0.456500    0.576500    1.000000   \n",
       "50%                        NaN      0.600000    0.722000    5.000000   \n",
       "75%                        NaN      0.724500    0.843000    9.000000   \n",
       "max                        NaN      0.957000    0.997000   11.000000   \n",
       "\n",
       "          loudness        mode     valence       tempo    duration_ms   \n",
       "count   467.000000  467.000000  467.000000  467.000000     467.000000  \\\n",
       "unique         NaN         NaN         NaN         NaN            NaN   \n",
       "top            NaN         NaN         NaN         NaN            NaN   \n",
       "freq           NaN         NaN         NaN         NaN            NaN   \n",
       "mean     -7.351274    0.623126    0.465539  122.473006  213931.034261   \n",
       "std       3.143080    0.485123    0.233629   27.604045   71934.350663   \n",
       "min     -23.078000    0.000000    0.037800   66.601000   57314.000000   \n",
       "25%      -8.937500    0.000000    0.278500   99.022000  168000.000000   \n",
       "50%      -6.834000    1.000000    0.456000  122.994000  202000.000000   \n",
       "75%      -5.050000    1.000000    0.628000  141.626000  239891.000000   \n",
       "max      -0.039000    1.000000    0.972000  200.499000  595161.000000   \n",
       "\n",
       "        time_signature  ...  minute_seconds  major_minor key_name  key_mode   \n",
       "count       467.000000  ...             467          467      467       467  \\\n",
       "unique             NaN  ...             190            2       12        24   \n",
       "top                NaN  ...            3'33        major       C#  C# major   \n",
       "freq               NaN  ...              13          291       71        48   \n",
       "mean          3.974304  ...             NaN          NaN      NaN       NaN   \n",
       "std           0.333056  ...             NaN          NaN      NaN       NaN   \n",
       "min           1.000000  ...             NaN          NaN      NaN       NaN   \n",
       "25%           4.000000  ...             NaN          NaN      NaN       NaN   \n",
       "50%           4.000000  ...             NaN          NaN      NaN       NaN   \n",
       "75%           4.000000  ...             NaN          NaN      NaN       NaN   \n",
       "max           5.000000  ...             NaN          NaN      NaN       NaN   \n",
       "\n",
       "                     artist_id   artist_name total_follower artist_popularity   \n",
       "count                      467           467   4.670000e+02        467.000000  \\\n",
       "unique                     467           467            NaN               NaN   \n",
       "top     4eR9k3I0YKCQUvvP2ojptw  Joan Shelley            NaN               NaN   \n",
       "freq                         1             1            NaN               NaN   \n",
       "mean                       NaN           NaN   2.251265e+06         52.004283   \n",
       "std                        NaN           NaN   1.091238e+07         18.007032   \n",
       "min                        NaN           NaN   7.750000e+02          9.000000   \n",
       "25%                        NaN           NaN   2.640050e+04         39.000000   \n",
       "50%                        NaN           NaN   1.092720e+05         53.000000   \n",
       "75%                        NaN           NaN   5.699455e+05         65.000000   \n",
       "max                        NaN           NaN   1.239193e+08        100.000000   \n",
       "\n",
       "        ['artist_genres']                  other  \n",
       "count                 467                    467  \n",
       "unique                275                      8  \n",
       "top        ['pov: indie']  hip_hop_rnb_soul_afro  \n",
       "freq                    9                    122  \n",
       "mean                  NaN                    NaN  \n",
       "std                   NaN                    NaN  \n",
       "min                   NaN                    NaN  \n",
       "25%                   NaN                    NaN  \n",
       "50%                   NaN                    NaN  \n",
       "75%                   NaN                    NaN  \n",
       "max                   NaN                    NaN  \n",
       "\n",
       "[11 rows x 22 columns]"
      ]
     },
     "execution_count": 48,
     "metadata": {},
     "output_type": "execute_result"
    }
   ],
   "source": [
    "df.describe(include=\"all\")"
   ]
  },
  {
   "cell_type": "markdown",
   "metadata": {},
   "source": [
    "let's check nan"
   ]
  },
  {
   "cell_type": "code",
   "execution_count": 49,
   "metadata": {},
   "outputs": [
    {
     "name": "stdout",
     "output_type": "stream",
     "text": [
      "<class 'pandas.core.frame.DataFrame'>\n",
      "RangeIndex: 467 entries, 0 to 466\n",
      "Data columns (total 22 columns):\n",
      " #   Column             Non-Null Count  Dtype  \n",
      "---  ------             --------------  -----  \n",
      " 0   track_id           467 non-null    object \n",
      " 1   danceability       467 non-null    float64\n",
      " 2   energy             467 non-null    float64\n",
      " 3   key                467 non-null    int64  \n",
      " 4   loudness           467 non-null    float64\n",
      " 5   mode               467 non-null    int64  \n",
      " 6   valence            467 non-null    float64\n",
      " 7   tempo              467 non-null    float64\n",
      " 8   duration_ms        467 non-null    int64  \n",
      " 9   time_signature     467 non-null    int64  \n",
      " 10  mood               467 non-null    float64\n",
      " 11  duration_seconds   467 non-null    float64\n",
      " 12  minute_seconds     467 non-null    object \n",
      " 13  major_minor        467 non-null    object \n",
      " 14  key_name           467 non-null    object \n",
      " 15  key_mode           467 non-null    object \n",
      " 16  artist_id          467 non-null    object \n",
      " 17  artist_name        467 non-null    object \n",
      " 18  total_follower     467 non-null    int64  \n",
      " 19  artist_popularity  467 non-null    int64  \n",
      " 20  ['artist_genres']  467 non-null    object \n",
      " 21  other              467 non-null    object \n",
      "dtypes: float64(7), int64(6), object(9)\n",
      "memory usage: 80.4+ KB\n"
     ]
    }
   ],
   "source": [
    "df.info()"
   ]
  },
  {
   "cell_type": "markdown",
   "metadata": {},
   "source": [
    "check of artists with \"other\" genre"
   ]
  },
  {
   "cell_type": "code",
   "execution_count": 60,
   "metadata": {},
   "outputs": [],
   "source": [
    "df_temp = df_artist_genre[\"['artist_genres']\"].str.contains('soul')"
   ]
  },
  {
   "cell_type": "markdown",
   "metadata": {},
   "source": [
    "Let's analyse valence, danceability and energy"
   ]
  },
  {
   "cell_type": "code",
   "execution_count": 13,
   "metadata": {},
   "outputs": [
    {
     "data": {
      "image/png": "[encoded data removed]",
      "text/plain": [
       "<Figure size 5000x1000 with 3 Axes>"
      ]
     },
     "metadata": {},
     "output_type": "display_data"
    }
   ],
   "source": [
    "plt.figure(figsize=(50,10))\n",
    "plt.subplot(131)\n",
    "sns.histplot(data=df,x='valence')\n",
    "plt.title('valence')\n",
    "plt.subplot(132)\n",
    "sns.histplot(data=df,x='danceability')\n",
    "plt.title('danceability')\n",
    "plt.subplot(133)\n",
    "sns.histplot(data=df,x='energy')\n",
    "plt.title('energy');"
   ]
  },
  {
   "cell_type": "code",
   "execution_count": 14,
   "metadata": {},
   "outputs": [
    {
     "data": {
      "image/png": "[encoded data removed]",
      "text/plain": [
       "<Figure size 3000x1000 with 3 Axes>"
      ]
     },
     "metadata": {},
     "output_type": "display_data"
    }
   ],
   "source": [
    "plt.figure(figsize=(30,10))\n",
    "plt.subplot(131)\n",
    "sns.boxplot(data=df,x='valence')\n",
    "plt.title('valence')\n",
    "plt.subplot(132)\n",
    "sns.boxplot(data=df,x='danceability')\n",
    "plt.title('danceability')\n",
    "plt.subplot(133)\n",
    "sns.boxplot(data=df,x='energy')\n",
    "plt.title('energy');"
   ]
  },
  {
   "cell_type": "code",
   "execution_count": 15,
   "metadata": {},
   "outputs": [
    {
     "data": {
      "image/png": "[encoded data removed]",
      "text/plain": [
       "<Figure size 640x480 with 1 Axes>"
      ]
     },
     "metadata": {},
     "output_type": "display_data"
    }
   ],
   "source": [
    "sm.qqplot(df['valence'], fit = True, line = '45');"
   ]
  },
  {
   "cell_type": "code",
   "execution_count": 16,
   "metadata": {},
   "outputs": [
    {
     "data": {
      "image/png": "[encoded data removed]",
      "text/plain": [
       "<Figure size 640x480 with 1 Axes>"
      ]
     },
     "metadata": {},
     "output_type": "display_data"
    }
   ],
   "source": [
    "sm.qqplot(df['danceability'], fit = True, line = '45');"
   ]
  },
  {
   "cell_type": "code",
   "execution_count": 17,
   "metadata": {},
   "outputs": [
    {
     "data": {
      "image/png": "[encoded data removed]",
      "text/plain": [
       "<Figure size 640x480 with 1 Axes>"
      ]
     },
     "metadata": {},
     "output_type": "display_data"
    }
   ],
   "source": [
    "sm.qqplot(df['energy'], fit = True, line = '45');"
   ]
  },
  {
   "cell_type": "code",
   "execution_count": 18,
   "metadata": {},
   "outputs": [
    {
     "data": {
      "text/plain": [
       "<Axes: >"
      ]
     },
     "execution_count": 18,
     "metadata": {},
     "output_type": "execute_result"
    },
    {
     "data": {
      "image/png": "[encoded data removed]",
      "text/plain": [
       "<Figure size 640x480 with 2 Axes>"
      ]
     },
     "metadata": {},
     "output_type": "display_data"
    }
   ],
   "source": [
    "sns.heatmap(data=df.select_dtypes(include=['number']).corr(),annot=True,fmt='.2f')"
   ]
  },
  {
   "cell_type": "code",
   "execution_count": 19,
   "metadata": {},
   "outputs": [
    {
     "data": {
      "text/plain": [
       "<Axes: xlabel='key_name', ylabel='count'>"
      ]
     },
     "execution_count": 19,
     "metadata": {},
     "output_type": "execute_result"
    },
    {
     "data": {
      "image/png": "[encoded data removed]",
      "text/plain": [
       "<Figure size 640x480 with 1 Axes>"
      ]
     },
     "metadata": {},
     "output_type": "display_data"
    }
   ],
   "source": [
    "sns.countplot(data=df,x='key_name')"
   ]
  },
  {
   "cell_type": "markdown",
   "metadata": {},
   "source": [
    "Key is defined by the Pitch Class Notation. https://en.wikipedia.org/wiki/Pitch_class\n",
    "where 0 is the key of C, 1 is C# and so on .\n",
    "Interessingly, the most occuring key is not C but C#.\n",
    "The least occuring key is the key of D# / E flat"
   ]
  },
  {
   "cell_type": "markdown",
   "metadata": {},
   "source": [
    "the key is not everything. One needs to know the mode to get a better grasp of the mood of the music."
   ]
  },
  {
   "cell_type": "code",
   "execution_count": 20,
   "metadata": {},
   "outputs": [
    {
     "data": {
      "text/plain": [
       "<Axes: xlabel='major_minor', ylabel='count'>"
      ]
     },
     "execution_count": 20,
     "metadata": {},
     "output_type": "execute_result"
    },
    {
     "data": {
      "image/png": "[encoded data removed]",
      "text/plain": [
       "<Figure size 640x480 with 1 Axes>"
      ]
     },
     "metadata": {},
     "output_type": "display_data"
    }
   ],
   "source": [
    "sns.countplot(data=df,x='major_minor')"
   ]
  },
  {
   "cell_type": "code",
   "execution_count": 21,
   "metadata": {},
   "outputs": [
    {
     "data": {
      "text/plain": [
       "<Axes: xlabel='key_name', ylabel='count'>"
      ]
     },
     "execution_count": 21,
     "metadata": {},
     "output_type": "execute_result"
    },
    {
     "data": {
      "image/png": "[encoded data removed]",
      "text/plain": [
       "<Figure size 640x480 with 1 Axes>"
      ]
     },
     "metadata": {},
     "output_type": "display_data"
    }
   ],
   "source": [
    "sns.countplot(data=df,x='key_name',hue='major_minor')"
   ]
  },
  {
   "cell_type": "markdown",
   "metadata": {},
   "source": [
    "so it seems that some key are mostly associated with a specific mode : G, D, C and C#. while others are mainly played in minor however not by a big margin : D#, F, F#, A#, B."
   ]
  },
  {
   "cell_type": "markdown",
   "metadata": {},
   "source": [
    "Is the higher occurence of minor mode in B key vs other group is statistically significant?\n",
    "the Chi2 independance test can help assess wether two categorical variables are independant or not."
   ]
  },
  {
   "cell_type": "code",
   "execution_count": 22,
   "metadata": {},
   "outputs": [
    {
     "data": {
      "text/html": [
       "<div>\n",
       "<style scoped>\n",
       "    .dataframe tbody tr th:only-of-type {\n",
       "        vertical-align: middle;\n",
       "    }\n",
       "\n",
       "    .dataframe tbody tr th {\n",
       "        vertical-align: top;\n",
       "    }\n",
       "\n",
       "    .dataframe thead th {\n",
       "        text-align: right;\n",
       "    }\n",
       "</style>\n",
       "<table border=\"1\" class=\"dataframe\">\n",
       "  <thead>\n",
       "    <tr style=\"text-align: right;\">\n",
       "      <th>major_minor</th>\n",
       "      <th>major</th>\n",
       "      <th>minor</th>\n",
       "    </tr>\n",
       "    <tr>\n",
       "      <th>key_name</th>\n",
       "      <th></th>\n",
       "      <th></th>\n",
       "    </tr>\n",
       "  </thead>\n",
       "  <tbody>\n",
       "    <tr>\n",
       "      <th>A</th>\n",
       "      <td>32</td>\n",
       "      <td>20</td>\n",
       "    </tr>\n",
       "    <tr>\n",
       "      <th>A#</th>\n",
       "      <td>12</td>\n",
       "      <td>27</td>\n",
       "    </tr>\n",
       "    <tr>\n",
       "      <th>B,</th>\n",
       "      <td>24</td>\n",
       "      <td>30</td>\n",
       "    </tr>\n",
       "    <tr>\n",
       "      <th>C</th>\n",
       "      <td>54</td>\n",
       "      <td>17</td>\n",
       "    </tr>\n",
       "    <tr>\n",
       "      <th>C#</th>\n",
       "      <td>54</td>\n",
       "      <td>24</td>\n",
       "    </tr>\n",
       "    <tr>\n",
       "      <th>D</th>\n",
       "      <td>38</td>\n",
       "      <td>7</td>\n",
       "    </tr>\n",
       "    <tr>\n",
       "      <th>D#</th>\n",
       "      <td>11</td>\n",
       "      <td>3</td>\n",
       "    </tr>\n",
       "    <tr>\n",
       "      <th>E</th>\n",
       "      <td>19</td>\n",
       "      <td>22</td>\n",
       "    </tr>\n",
       "    <tr>\n",
       "      <th>F</th>\n",
       "      <td>19</td>\n",
       "      <td>18</td>\n",
       "    </tr>\n",
       "    <tr>\n",
       "      <th>F#</th>\n",
       "      <td>17</td>\n",
       "      <td>18</td>\n",
       "    </tr>\n",
       "    <tr>\n",
       "      <th>G</th>\n",
       "      <td>48</td>\n",
       "      <td>8</td>\n",
       "    </tr>\n",
       "    <tr>\n",
       "      <th>G#</th>\n",
       "      <td>28</td>\n",
       "      <td>12</td>\n",
       "    </tr>\n",
       "  </tbody>\n",
       "</table>\n",
       "</div>"
      ],
      "text/plain": [
       "major_minor  major  minor\n",
       "key_name                 \n",
       "A               32     20\n",
       "A#              12     27\n",
       "B,              24     30\n",
       "C               54     17\n",
       "C#              54     24\n",
       "D               38      7\n",
       "D#              11      3\n",
       "E               19     22\n",
       "F               19     18\n",
       "F#              17     18\n",
       "G               48      8\n",
       "G#              28     12"
      ]
     },
     "execution_count": 22,
     "metadata": {},
     "output_type": "execute_result"
    }
   ],
   "source": [
    "df_key_mode = df[[\"major_minor\",\"key_name\"]].reset_index().groupby([\"major_minor\",\"key_name\"]).count().reset_index()\n",
    "df_key_mode = df_key_mode.pivot(index=\"key_name\",columns=\"major_minor\",values=\"track_id\")\n",
    "df_key_mode.head(20)"
   ]
  },
  {
   "cell_type": "code",
   "execution_count": 23,
   "metadata": {},
   "outputs": [
    {
     "name": "stdout",
     "output_type": "stream",
     "text": [
      "Chi-square statistic: 65.85454213654626\n",
      "P-value: 7.440372112422301e-10\n",
      "Degrees of freedom: 11\n",
      "Expected frequencies:\n",
      "[[32.93950178 19.06049822]\n",
      " [24.70462633 14.29537367]\n",
      " [34.20640569 19.79359431]\n",
      " [44.97508897 26.02491103]\n",
      " [49.40925267 28.59074733]\n",
      " [28.50533808 16.49466192]\n",
      " [ 8.8683274   5.1316726 ]\n",
      " [25.97153025 15.02846975]\n",
      " [23.43772242 13.56227758]\n",
      " [22.17081851 12.82918149]\n",
      " [35.47330961 20.52669039]\n",
      " [25.33807829 14.66192171]]\n"
     ]
    }
   ],
   "source": [
    "chi2, p, dof, expected = sp.chi2_contingency(df_key_mode)\n",
    "\n",
    "print(\"Chi-square statistic:\", chi2)\n",
    "print(\"P-value:\", p)\n",
    "print(\"Degrees of freedom:\", dof)\n",
    "print(\"Expected frequencies:\")\n",
    "print(expected)"
   ]
  },
  {
   "cell_type": "markdown",
   "metadata": {},
   "source": [
    "based on these results we can conclude that there is a significant relationship between key and mode.\n",
    "Meaning that some keys are statistically more often used with a preferred mode than the other in a significant way."
   ]
  },
  {
   "cell_type": "markdown",
   "metadata": {},
   "source": [
    "Is  Louder more energetic? We can see that correlation is quite strong at 0.75. But is it statistically significant?\n",
    "We can use a spearman test to analyse that as these are two continuous numeric variables"
   ]
  },
  {
   "cell_type": "code",
   "execution_count": 24,
   "metadata": {},
   "outputs": [
    {
     "name": "stdout",
     "output_type": "stream",
     "text": [
      "0.7016377453106416 1.7857608881140525e-84\n"
     ]
    }
   ],
   "source": [
    "correl,p_value_pearson = sp.spearmanr(df[\"loudness\"],df[\"energy\"])\n",
    "print(correl,p_value_pearson)"
   ]
  },
  {
   "cell_type": "markdown",
   "metadata": {},
   "source": [
    "looking at the p value we can assess that the correlation between loudness and energy is statistically significant"
   ]
  },
  {
   "cell_type": "markdown",
   "metadata": {},
   "source": [
    "what about energy and valence? Is Happy music more energetic than sad music?"
   ]
  },
  {
   "cell_type": "code",
   "execution_count": 25,
   "metadata": {},
   "outputs": [
    {
     "name": "stdout",
     "output_type": "stream",
     "text": [
      "0.28667495261136977 4.3032075019348e-12\n"
     ]
    }
   ],
   "source": [
    "correl,p_value_pearson = sp.spearmanr(df[\"loudness\"],df[\"valence\"])\n",
    "print(correl,p_value_pearson)"
   ]
  },
  {
   "cell_type": "markdown",
   "metadata": {},
   "source": [
    "Once again correlation is statistically significant. Happier music seems to be noted more energetic."
   ]
  },
  {
   "cell_type": "markdown",
   "metadata": {},
   "source": [
    "What about valence vs danceability? Is Dance music, happier music?"
   ]
  },
  {
   "cell_type": "code",
   "execution_count": 26,
   "metadata": {},
   "outputs": [
    {
     "name": "stdout",
     "output_type": "stream",
     "text": [
      "0.5112925800637341 9.292259315639755e-39\n"
     ]
    }
   ],
   "source": [
    "correl,p_value_pearson = sp.spearmanr(df[\"danceability\"],df[\"valence\"])\n",
    "print(correl,p_value_pearson)"
   ]
  },
  {
   "cell_type": "markdown",
   "metadata": {},
   "source": [
    "looks like it is."
   ]
  },
  {
   "cell_type": "markdown",
   "metadata": {},
   "source": [
    "So the more energetic the music, the more likely it is to be of a positive mood and the more likely it is to be danceable"
   ]
  },
  {
   "cell_type": "markdown",
   "metadata": {},
   "source": [
    "lets cross check key/mode vs the mood (danceability x energy x valence)"
   ]
  },
  {
   "cell_type": "code",
   "execution_count": 27,
   "metadata": {},
   "outputs": [
    {
     "data": {
      "text/html": [
       "<div>\n",
       "<style scoped>\n",
       "    .dataframe tbody tr th:only-of-type {\n",
       "        vertical-align: middle;\n",
       "    }\n",
       "\n",
       "    .dataframe tbody tr th {\n",
       "        vertical-align: top;\n",
       "    }\n",
       "\n",
       "    .dataframe thead th {\n",
       "        text-align: right;\n",
       "    }\n",
       "</style>\n",
       "<table border=\"1\" class=\"dataframe\">\n",
       "  <thead>\n",
       "    <tr style=\"text-align: right;\">\n",
       "      <th></th>\n",
       "      <th>df</th>\n",
       "      <th>sum_sq</th>\n",
       "      <th>mean_sq</th>\n",
       "      <th>F</th>\n",
       "      <th>PR(&gt;F)</th>\n",
       "    </tr>\n",
       "  </thead>\n",
       "  <tbody>\n",
       "    <tr>\n",
       "      <th>key_mode</th>\n",
       "      <td>23.0</td>\n",
       "      <td>0.671848</td>\n",
       "      <td>0.029211</td>\n",
       "      <td>1.324774</td>\n",
       "      <td>0.143417</td>\n",
       "    </tr>\n",
       "    <tr>\n",
       "      <th>Residual</th>\n",
       "      <td>538.0</td>\n",
       "      <td>11.862710</td>\n",
       "      <td>0.022050</td>\n",
       "      <td>NaN</td>\n",
       "      <td>NaN</td>\n",
       "    </tr>\n",
       "  </tbody>\n",
       "</table>\n",
       "</div>"
      ],
      "text/plain": [
       "             df     sum_sq   mean_sq         F    PR(>F)\n",
       "key_mode   23.0   0.671848  0.029211  1.324774  0.143417\n",
       "Residual  538.0  11.862710  0.022050       NaN       NaN"
      ]
     },
     "execution_count": 27,
     "metadata": {},
     "output_type": "execute_result"
    }
   ],
   "source": [
    "result=smf.ols('mood ~ key_mode', data=df).fit()\n",
    "sm.stats.anova_lm(result)"
   ]
  },
  {
   "cell_type": "code",
   "execution_count": 28,
   "metadata": {},
   "outputs": [],
   "source": [
    "tukey_results = pairwise_tukeyhsd(df['mood'], df['key_mode'])\n",
    "\n"
   ]
  },
  {
   "cell_type": "code",
   "execution_count": 29,
   "metadata": {},
   "outputs": [],
   "source": [
    "df_results = pd.DataFrame(data=tukey_results._results_table.data[1:], columns=tukey_results._results_table.data[0])"
   ]
  },
  {
   "cell_type": "code",
   "execution_count": 30,
   "metadata": {},
   "outputs": [
    {
     "name": "stdout",
     "output_type": "stream",
     "text": [
      "<class 'pandas.core.frame.DataFrame'>\n",
      "RangeIndex: 276 entries, 0 to 275\n",
      "Data columns (total 7 columns):\n",
      " #   Column    Non-Null Count  Dtype  \n",
      "---  ------    --------------  -----  \n",
      " 0   group1    276 non-null    object \n",
      " 1   group2    276 non-null    object \n",
      " 2   meandiff  276 non-null    float64\n",
      " 3   p-adj     276 non-null    float64\n",
      " 4   lower     276 non-null    float64\n",
      " 5   upper     276 non-null    float64\n",
      " 6   reject    276 non-null    bool   \n",
      "dtypes: bool(1), float64(4), object(2)\n",
      "memory usage: 13.3+ KB\n"
     ]
    }
   ],
   "source": [
    "df_results.info()"
   ]
  },
  {
   "cell_type": "code",
   "execution_count": 31,
   "metadata": {},
   "outputs": [
    {
     "name": "stdout",
     "output_type": "stream",
     "text": [
      "<class 'pandas.core.frame.DataFrame'>\n",
      "Index: 0 entries\n",
      "Data columns (total 7 columns):\n",
      " #   Column    Non-Null Count  Dtype  \n",
      "---  ------    --------------  -----  \n",
      " 0   group1    0 non-null      object \n",
      " 1   group2    0 non-null      object \n",
      " 2   meandiff  0 non-null      float64\n",
      " 3   p-adj     0 non-null      float64\n",
      " 4   lower     0 non-null      float64\n",
      " 5   upper     0 non-null      float64\n",
      " 6   reject    0 non-null      bool   \n",
      "dtypes: bool(1), float64(4), object(2)\n",
      "memory usage: 0.0+ bytes\n"
     ]
    }
   ],
   "source": [
    "df_turkey_significant = df_results[df_results['p-adj']<0.05]\n",
    "df_turkey_significant.info()"
   ]
  },
  {
   "cell_type": "code",
   "execution_count": 32,
   "metadata": {},
   "outputs": [
    {
     "data": {
      "text/plain": [
       "<Axes: xlabel='time_signature', ylabel='count'>"
      ]
     },
     "execution_count": 32,
     "metadata": {},
     "output_type": "execute_result"
    },
    {
     "data": {
      "image/png": "[encoded data removed]",
      "text/plain": [
       "<Figure size 640x480 with 1 Axes>"
      ]
     },
     "metadata": {},
     "output_type": "display_data"
    }
   ],
   "source": [
    "sns.countplot(data=df,x='time_signature')"
   ]
  },
  {
   "cell_type": "markdown",
   "metadata": {},
   "source": [
    "what genre are associated of 5/4? is it accurate?\n",
    "same question for 3/4"
   ]
  },
  {
   "cell_type": "code",
   "execution_count": 33,
   "metadata": {},
   "outputs": [
    {
     "data": {
      "text/plain": [
       "<Axes: xlabel='duration_seconds'>"
      ]
     },
     "execution_count": 33,
     "metadata": {},
     "output_type": "execute_result"
    },
    {
     "data": {
      "image/png": "[encoded data removed]",
      "text/plain": [
       "<Figure size 640x480 with 1 Axes>"
      ]
     },
     "metadata": {},
     "output_type": "display_data"
    }
   ],
   "source": [
    "sns.boxplot(data=df,x='duration_seconds')"
   ]
  },
  {
   "cell_type": "code",
   "execution_count": 34,
   "metadata": {},
   "outputs": [
    {
     "data": {
      "text/html": [
       "<div>\n",
       "<style scoped>\n",
       "    .dataframe tbody tr th:only-of-type {\n",
       "        vertical-align: middle;\n",
       "    }\n",
       "\n",
       "    .dataframe tbody tr th {\n",
       "        vertical-align: top;\n",
       "    }\n",
       "\n",
       "    .dataframe thead th {\n",
       "        text-align: right;\n",
       "    }\n",
       "</style>\n",
       "<table border=\"1\" class=\"dataframe\">\n",
       "  <thead>\n",
       "    <tr style=\"text-align: right;\">\n",
       "      <th></th>\n",
       "      <th>danceability</th>\n",
       "      <th>energy</th>\n",
       "      <th>key</th>\n",
       "      <th>loudness</th>\n",
       "      <th>mode</th>\n",
       "      <th>valence</th>\n",
       "      <th>tempo</th>\n",
       "      <th>duration_ms</th>\n",
       "      <th>time_signature</th>\n",
       "      <th>mood</th>\n",
       "      <th>duration_seconds</th>\n",
       "      <th>minute_seconds</th>\n",
       "      <th>major_minor</th>\n",
       "      <th>key_name</th>\n",
       "      <th>key_mode</th>\n",
       "      <th>popularity</th>\n",
       "      <th>track_name</th>\n",
       "    </tr>\n",
       "    <tr>\n",
       "      <th>track_id</th>\n",
       "      <th></th>\n",
       "      <th></th>\n",
       "      <th></th>\n",
       "      <th></th>\n",
       "      <th></th>\n",
       "      <th></th>\n",
       "      <th></th>\n",
       "      <th></th>\n",
       "      <th></th>\n",
       "      <th></th>\n",
       "      <th></th>\n",
       "      <th></th>\n",
       "      <th></th>\n",
       "      <th></th>\n",
       "      <th></th>\n",
       "      <th></th>\n",
       "      <th></th>\n",
       "    </tr>\n",
       "  </thead>\n",
       "  <tbody>\n",
       "    <tr>\n",
       "      <th>4A4BdAB3MPQhLn7MZZOSmW</th>\n",
       "      <td>0.579</td>\n",
       "      <td>0.338</td>\n",
       "      <td>10</td>\n",
       "      <td>-14.625</td>\n",
       "      <td>1</td>\n",
       "      <td>0.1990</td>\n",
       "      <td>90.126</td>\n",
       "      <td>286731</td>\n",
       "      <td>5</td>\n",
       "      <td>0.038945</td>\n",
       "      <td>287.0</td>\n",
       "      <td>4'47</td>\n",
       "      <td>major</td>\n",
       "      <td>A#</td>\n",
       "      <td>A# major</td>\n",
       "      <td>37</td>\n",
       "      <td>Autumn Leaves (feat. James Francies)</td>\n",
       "    </tr>\n",
       "    <tr>\n",
       "      <th>53xmr7bWbnVA5nanQc9she</th>\n",
       "      <td>0.116</td>\n",
       "      <td>0.144</td>\n",
       "      <td>0</td>\n",
       "      <td>-17.646</td>\n",
       "      <td>1</td>\n",
       "      <td>0.0362</td>\n",
       "      <td>84.846</td>\n",
       "      <td>427707</td>\n",
       "      <td>5</td>\n",
       "      <td>0.000605</td>\n",
       "      <td>428.0</td>\n",
       "      <td>7'8</td>\n",
       "      <td>major</td>\n",
       "      <td>C</td>\n",
       "      <td>C major</td>\n",
       "      <td>16</td>\n",
       "      <td>Rock N Roll Never Forgets</td>\n",
       "    </tr>\n",
       "    <tr>\n",
       "      <th>10TPdvmkSh4OZJY39OfnQv</th>\n",
       "      <td>0.453</td>\n",
       "      <td>0.469</td>\n",
       "      <td>11</td>\n",
       "      <td>-9.699</td>\n",
       "      <td>1</td>\n",
       "      <td>0.4990</td>\n",
       "      <td>92.538</td>\n",
       "      <td>193043</td>\n",
       "      <td>5</td>\n",
       "      <td>0.106016</td>\n",
       "      <td>193.0</td>\n",
       "      <td>3'13</td>\n",
       "      <td>major</td>\n",
       "      <td>B,</td>\n",
       "      <td>B, major</td>\n",
       "      <td>34</td>\n",
       "      <td>Coke with Ice</td>\n",
       "    </tr>\n",
       "    <tr>\n",
       "      <th>2LP4LllG0k6nSvAtbe60Xr</th>\n",
       "      <td>0.282</td>\n",
       "      <td>0.745</td>\n",
       "      <td>9</td>\n",
       "      <td>-6.788</td>\n",
       "      <td>1</td>\n",
       "      <td>0.4720</td>\n",
       "      <td>131.832</td>\n",
       "      <td>212958</td>\n",
       "      <td>5</td>\n",
       "      <td>0.099162</td>\n",
       "      <td>213.0</td>\n",
       "      <td>3'33</td>\n",
       "      <td>major</td>\n",
       "      <td>A</td>\n",
       "      <td>A major</td>\n",
       "      <td>20</td>\n",
       "      <td>Change</td>\n",
       "    </tr>\n",
       "    <tr>\n",
       "      <th>5Ir8RQngyI0ny6Aq4zhAVp</th>\n",
       "      <td>0.642</td>\n",
       "      <td>0.557</td>\n",
       "      <td>0</td>\n",
       "      <td>-7.278</td>\n",
       "      <td>0</td>\n",
       "      <td>0.2550</td>\n",
       "      <td>113.519</td>\n",
       "      <td>150902</td>\n",
       "      <td>5</td>\n",
       "      <td>0.091186</td>\n",
       "      <td>151.0</td>\n",
       "      <td>2'31</td>\n",
       "      <td>minor</td>\n",
       "      <td>C</td>\n",
       "      <td>C minor</td>\n",
       "      <td>41</td>\n",
       "      <td>para siempre(｡&gt;﹏&lt;)</td>\n",
       "    </tr>\n",
       "  </tbody>\n",
       "</table>\n",
       "</div>"
      ],
      "text/plain": [
       "                        danceability  energy  key  loudness  mode  valence   \n",
       "track_id                                                                     \n",
       "4A4BdAB3MPQhLn7MZZOSmW         0.579   0.338   10   -14.625     1   0.1990  \\\n",
       "53xmr7bWbnVA5nanQc9she         0.116   0.144    0   -17.646     1   0.0362   \n",
       "10TPdvmkSh4OZJY39OfnQv         0.453   0.469   11    -9.699     1   0.4990   \n",
       "2LP4LllG0k6nSvAtbe60Xr         0.282   0.745    9    -6.788     1   0.4720   \n",
       "5Ir8RQngyI0ny6Aq4zhAVp         0.642   0.557    0    -7.278     0   0.2550   \n",
       "\n",
       "                          tempo  duration_ms  time_signature      mood   \n",
       "track_id                                                                 \n",
       "4A4BdAB3MPQhLn7MZZOSmW   90.126       286731               5  0.038945  \\\n",
       "53xmr7bWbnVA5nanQc9she   84.846       427707               5  0.000605   \n",
       "10TPdvmkSh4OZJY39OfnQv   92.538       193043               5  0.106016   \n",
       "2LP4LllG0k6nSvAtbe60Xr  131.832       212958               5  0.099162   \n",
       "5Ir8RQngyI0ny6Aq4zhAVp  113.519       150902               5  0.091186   \n",
       "\n",
       "                        duration_seconds minute_seconds major_minor key_name   \n",
       "track_id                                                                       \n",
       "4A4BdAB3MPQhLn7MZZOSmW             287.0           4'47       major       A#  \\\n",
       "53xmr7bWbnVA5nanQc9she             428.0            7'8       major        C   \n",
       "10TPdvmkSh4OZJY39OfnQv             193.0           3'13       major       B,   \n",
       "2LP4LllG0k6nSvAtbe60Xr             213.0           3'33       major        A   \n",
       "5Ir8RQngyI0ny6Aq4zhAVp             151.0           2'31       minor        C   \n",
       "\n",
       "                        key_mode  popularity   \n",
       "track_id                                       \n",
       "4A4BdAB3MPQhLn7MZZOSmW  A# major          37  \\\n",
       "53xmr7bWbnVA5nanQc9she   C major          16   \n",
       "10TPdvmkSh4OZJY39OfnQv  B, major          34   \n",
       "2LP4LllG0k6nSvAtbe60Xr   A major          20   \n",
       "5Ir8RQngyI0ny6Aq4zhAVp   C minor          41   \n",
       "\n",
       "                                                  track_name  \n",
       "track_id                                                      \n",
       "4A4BdAB3MPQhLn7MZZOSmW  Autumn Leaves (feat. James Francies)  \n",
       "53xmr7bWbnVA5nanQc9she             Rock N Roll Never Forgets  \n",
       "10TPdvmkSh4OZJY39OfnQv                         Coke with Ice  \n",
       "2LP4LllG0k6nSvAtbe60Xr                                Change  \n",
       "5Ir8RQngyI0ny6Aq4zhAVp                    para siempre(｡>﹏<)  "
      ]
     },
     "execution_count": 34,
     "metadata": {},
     "output_type": "execute_result"
    }
   ],
   "source": [
    "df_temp = df[df['time_signature']==5]\n",
    "df_temp.head()"
   ]
  },
  {
   "cell_type": "code",
   "execution_count": 35,
   "metadata": {},
   "outputs": [
    {
     "data": {
      "application/vnd.plotly.v1+json": {
       "config": {
        "plotlyServerURL": "https://plot.ly"
       },
       "data": [
        {
         "alignmentgroup": "True",
         "hovertemplate": "duration_seconds=%{x}<extra></extra>",
         "legendgroup": "",
         "marker": {
          "color": "#636efa"
         },
         "name": "",
         "notched": false,
         "offsetgroup": "",
         "orientation": "h",
         "showlegend": false,
         "type": "box",
         "x": [
          186,
          363,
          137,
          180,
          131,
          177,
          317,
          163,
          234,
          181,
          160,
          180,
          200,
          187,
          321,
          196,
          286,
          211,
          128,
          169,
          162,
          222,
          177,
          307,
          327,
          260,
          227,
          276,
          168,
          315,
          227,
          145,
          261,
          196,
          246,
          300,
          329,
          144,
          177,
          176,
          143,
          141,
          298,
          80,
          244,
          138,
          168,
          208,
          151,
          247,
          197,
          266,
          139,
          409,
          167,
          155,
          236,
          174,
          481,
          216,
          229,
          215,
          223,
          278,
          101,
          254,
          195,
          343,
          183,
          412,
          172,
          273,
          137,
          275,
          301,
          260,
          200,
          222,
          248,
          249,
          310,
          232,
          226,
          254,
          198,
          192,
          213,
          221,
          223,
          218,
          255,
          163,
          132,
          189,
          151,
          196,
          314,
          185,
          175,
          182,
          179,
          556,
          209,
          229,
          173,
          289,
          316,
          212,
          235,
          355,
          243,
          156,
          331,
          202,
          233,
          245,
          321,
          188,
          235,
          155,
          287,
          195,
          164,
          278,
          180,
          203,
          190,
          289,
          183,
          221,
          181,
          182,
          139,
          343,
          226,
          428,
          159,
          178,
          193,
          223,
          173,
          238,
          209,
          144,
          120,
          180,
          207,
          384,
          239,
          222,
          145,
          167,
          257,
          221,
          164,
          212,
          293,
          189,
          240,
          215,
          171,
          168,
          162,
          209,
          157,
          201,
          182,
          143,
          209,
          118,
          154,
          146,
          204,
          236,
          288,
          124,
          215,
          185,
          168,
          230,
          226,
          213,
          199,
          243,
          151,
          199,
          187,
          164,
          181,
          162,
          192,
          181,
          157,
          243,
          204,
          195,
          218,
          249,
          113,
          240,
          178,
          144,
          163,
          136,
          122,
          186,
          188,
          208,
          422,
          223,
          209,
          157,
          156,
          192,
          240,
          164,
          177,
          414,
          174,
          114,
          205,
          163,
          153,
          145,
          175,
          210,
          134,
          268,
          171,
          207,
          159,
          185,
          229,
          197,
          153,
          151,
          158,
          139,
          239,
          213,
          179,
          184,
          263,
          182,
          172,
          210,
          161,
          217,
          213,
          219,
          189,
          200,
          145,
          165,
          281,
          177,
          134,
          176,
          210,
          163,
          131,
          131,
          196,
          227,
          180,
          218,
          175,
          141,
          185,
          227,
          443,
          190,
          247,
          246,
          220,
          383,
          153,
          152,
          235,
          239,
          208,
          322,
          168,
          166,
          195,
          341,
          143,
          142,
          156,
          157,
          221,
          225,
          150,
          184,
          328,
          274,
          306,
          384,
          254,
          204,
          268,
          207,
          258,
          225,
          213,
          397,
          130,
          132,
          194,
          168,
          434,
          185,
          82,
          271,
          168,
          179,
          406,
          242,
          195,
          293,
          226,
          186,
          195,
          202,
          185,
          249,
          235,
          215,
          171,
          118,
          195,
          292,
          298,
          249,
          246,
          180,
          219,
          117,
          162,
          180,
          110,
          213,
          226,
          264,
          203,
          174,
          550,
          367,
          96,
          396,
          209,
          232,
          154,
          169,
          182,
          165,
          160,
          285,
          195,
          215,
          181,
          133,
          163,
          214,
          237,
          193,
          151,
          370,
          155,
          178,
          235,
          241,
          364,
          170,
          143,
          353,
          156,
          163,
          127,
          211,
          212,
          140,
          184,
          226,
          188,
          136,
          250,
          298,
          280,
          163,
          190,
          139,
          252,
          189,
          146,
          145,
          120,
          183,
          162,
          217,
          213,
          213,
          283,
          231,
          190,
          187,
          204,
          193,
          220,
          274,
          149,
          126,
          181,
          203,
          222,
          343,
          165,
          224,
          358,
          356,
          268,
          266,
          166,
          447,
          344,
          182,
          173,
          199,
          307,
          213,
          240,
          131,
          284,
          143,
          252,
          175,
          66,
          182,
          196,
          208,
          205,
          212,
          240,
          206,
          251,
          169,
          180,
          148,
          168,
          280,
          134,
          221,
          174,
          309,
          200,
          57,
          146,
          305,
          212,
          189,
          177,
          253,
          235,
          216,
          248,
          244,
          277,
          148,
          168,
          250,
          136,
          179,
          298,
          131,
          189,
          179,
          122,
          175,
          116,
          206,
          166,
          134,
          194,
          135,
          229,
          210,
          185,
          97,
          219,
          170,
          214,
          154,
          223,
          174,
          208,
          162,
          210,
          156,
          168,
          211,
          181,
          233,
          182,
          225,
          174,
          199,
          174,
          178,
          238,
          221,
          149,
          239,
          375,
          191,
          260,
          213,
          208,
          387,
          132,
          222,
          201,
          219,
          200,
          351,
          259,
          270,
          111,
          209,
          572,
          157,
          166,
          244,
          340,
          223,
          201,
          204,
          134,
          374,
          264,
          222,
          219,
          595,
          186,
          154,
          213,
          182,
          438,
          178,
          213,
          202,
          224,
          180,
          205,
          174,
          252,
          172,
          158,
          149,
          196,
          154,
          225,
          161
         ],
         "x0": " ",
         "xaxis": "x",
         "y0": " ",
         "yaxis": "y"
        }
       ],
       "layout": {
        "boxmode": "group",
        "legend": {
         "tracegroupgap": 0
        },
        "margin": {
         "t": 60
        },
        "template": {
         "data": {
          "bar": [
           {
            "error_x": {
             "color": "#2a3f5f"
            },
            "error_y": {
             "color": "#2a3f5f"
            },
            "marker": {
             "line": {
              "color": "#E5ECF6",
              "width": 0.5
             },
             "pattern": {
              "fillmode": "overlay",
              "size": 10,
              "solidity": 0.2
             }
            },
            "type": "bar"
           }
          ],
          "barpolar": [
           {
            "marker": {
             "line": {
              "color": "#E5ECF6",
              "width": 0.5
             },
             "pattern": {
              "fillmode": "overlay",
              "size": 10,
              "solidity": 0.2
             }
            },
            "type": "barpolar"
           }
          ],
          "carpet": [
           {
            "aaxis": {
             "endlinecolor": "#2a3f5f",
             "gridcolor": "white",
             "linecolor": "white",
             "minorgridcolor": "white",
             "startlinecolor": "#2a3f5f"
            },
            "baxis": {
             "endlinecolor": "#2a3f5f",
             "gridcolor": "white",
             "linecolor": "white",
             "minorgridcolor": "white",
             "startlinecolor": "#2a3f5f"
            },
            "type": "carpet"
           }
          ],
          "choropleth": [
           {
            "colorbar": {
             "outlinewidth": 0,
             "ticks": ""
            },
            "type": "choropleth"
           }
          ],
          "contour": [
           {
            "colorbar": {
             "outlinewidth": 0,
             "ticks": ""
            },
            "colorscale": [
             [
              0,
              "#0d0887"
             ],
             [
              0.1111111111111111,
              "#46039f"
             ],
             [
              0.2222222222222222,
              "#7201a8"
             ],
             [
              0.3333333333333333,
              "#9c179e"
             ],
             [
              0.4444444444444444,
              "#bd3786"
             ],
             [
              0.5555555555555556,
              "#d8576b"
             ],
             [
              0.6666666666666666,
              "#ed7953"
             ],
             [
              0.7777777777777778,
              "#fb9f3a"
             ],
             [
              0.8888888888888888,
              "#fdca26"
             ],
             [
              1,
              "#f0f921"
             ]
            ],
            "type": "contour"
           }
          ],
          "contourcarpet": [
           {
            "colorbar": {
             "outlinewidth": 0,
             "ticks": ""
            },
            "type": "contourcarpet"
           }
          ],
          "heatmap": [
           {
            "colorbar": {
             "outlinewidth": 0,
             "ticks": ""
            },
            "colorscale": [
             [
              0,
              "#0d0887"
             ],
             [
              0.1111111111111111,
              "#46039f"
             ],
             [
              0.2222222222222222,
              "#7201a8"
             ],
             [
              0.3333333333333333,
              "#9c179e"
             ],
             [
              0.4444444444444444,
              "#bd3786"
             ],
             [
              0.5555555555555556,
              "#d8576b"
             ],
             [
              0.6666666666666666,
              "#ed7953"
             ],
             [
              0.7777777777777778,
              "#fb9f3a"
             ],
             [
              0.8888888888888888,
              "#fdca26"
             ],
             [
              1,
              "#f0f921"
             ]
            ],
            "type": "heatmap"
           }
          ],
          "heatmapgl": [
           {
            "colorbar": {
             "outlinewidth": 0,
             "ticks": ""
            },
            "colorscale": [
             [
              0,
              "#0d0887"
             ],
             [
              0.1111111111111111,
              "#46039f"
             ],
             [
              0.2222222222222222,
              "#7201a8"
             ],
             [
              0.3333333333333333,
              "#9c179e"
             ],
             [
              0.4444444444444444,
              "#bd3786"
             ],
             [
              0.5555555555555556,
              "#d8576b"
             ],
             [
              0.6666666666666666,
              "#ed7953"
             ],
             [
              0.7777777777777778,
              "#fb9f3a"
             ],
             [
              0.8888888888888888,
              "#fdca26"
             ],
             [
              1,
              "#f0f921"
             ]
            ],
            "type": "heatmapgl"
           }
          ],
          "histogram": [
           {
            "marker": {
             "pattern": {
              "fillmode": "overlay",
              "size": 10,
              "solidity": 0.2
             }
            },
            "type": "histogram"
           }
          ],
          "histogram2d": [
           {
            "colorbar": {
             "outlinewidth": 0,
             "ticks": ""
            },
            "colorscale": [
             [
              0,
              "#0d0887"
             ],
             [
              0.1111111111111111,
              "#46039f"
             ],
             [
              0.2222222222222222,
              "#7201a8"
             ],
             [
              0.3333333333333333,
              "#9c179e"
             ],
             [
              0.4444444444444444,
              "#bd3786"
             ],
             [
              0.5555555555555556,
              "#d8576b"
             ],
             [
              0.6666666666666666,
              "#ed7953"
             ],
             [
              0.7777777777777778,
              "#fb9f3a"
             ],
             [
              0.8888888888888888,
              "#fdca26"
             ],
             [
              1,
              "#f0f921"
             ]
            ],
            "type": "histogram2d"
           }
          ],
          "histogram2dcontour": [
           {
            "colorbar": {
             "outlinewidth": 0,
             "ticks": ""
            },
            "colorscale": [
             [
              0,
              "#0d0887"
             ],
             [
              0.1111111111111111,
              "#46039f"
             ],
             [
              0.2222222222222222,
              "#7201a8"
             ],
             [
              0.3333333333333333,
              "#9c179e"
             ],
             [
              0.4444444444444444,
              "#bd3786"
             ],
             [
              0.5555555555555556,
              "#d8576b"
             ],
             [
              0.6666666666666666,
              "#ed7953"
             ],
             [
              0.7777777777777778,
              "#fb9f3a"
             ],
             [
              0.8888888888888888,
              "#fdca26"
             ],
             [
              1,
              "#f0f921"
             ]
            ],
            "type": "histogram2dcontour"
           }
          ],
          "mesh3d": [
           {
            "colorbar": {
             "outlinewidth": 0,
             "ticks": ""
            },
            "type": "mesh3d"
           }
          ],
          "parcoords": [
           {
            "line": {
             "colorbar": {
              "outlinewidth": 0,
              "ticks": ""
             }
            },
            "type": "parcoords"
           }
          ],
          "pie": [
           {
            "automargin": true,
            "type": "pie"
           }
          ],
          "scatter": [
           {
            "fillpattern": {
             "fillmode": "overlay",
             "size": 10,
             "solidity": 0.2
            },
            "type": "scatter"
           }
          ],
          "scatter3d": [
           {
            "line": {
             "colorbar": {
              "outlinewidth": 0,
              "ticks": ""
             }
            },
            "marker": {
             "colorbar": {
              "outlinewidth": 0,
              "ticks": ""
             }
            },
            "type": "scatter3d"
           }
          ],
          "scattercarpet": [
           {
            "marker": {
             "colorbar": {
              "outlinewidth": 0,
              "ticks": ""
             }
            },
            "type": "scattercarpet"
           }
          ],
          "scattergeo": [
           {
            "marker": {
             "colorbar": {
              "outlinewidth": 0,
              "ticks": ""
             }
            },
            "type": "scattergeo"
           }
          ],
          "scattergl": [
           {
            "marker": {
             "colorbar": {
              "outlinewidth": 0,
              "ticks": ""
             }
            },
            "type": "scattergl"
           }
          ],
          "scattermapbox": [
           {
            "marker": {
             "colorbar": {
              "outlinewidth": 0,
              "ticks": ""
             }
            },
            "type": "scattermapbox"
           }
          ],
          "scatterpolar": [
           {
            "marker": {
             "colorbar": {
              "outlinewidth": 0,
              "ticks": ""
             }
            },
            "type": "scatterpolar"
           }
          ],
          "scatterpolargl": [
           {
            "marker": {
             "colorbar": {
              "outlinewidth": 0,
              "ticks": ""
             }
            },
            "type": "scatterpolargl"
           }
          ],
          "scatterternary": [
           {
            "marker": {
             "colorbar": {
              "outlinewidth": 0,
              "ticks": ""
             }
            },
            "type": "scatterternary"
           }
          ],
          "surface": [
           {
            "colorbar": {
             "outlinewidth": 0,
             "ticks": ""
            },
            "colorscale": [
             [
              0,
              "#0d0887"
             ],
             [
              0.1111111111111111,
              "#46039f"
             ],
             [
              0.2222222222222222,
              "#7201a8"
             ],
             [
              0.3333333333333333,
              "#9c179e"
             ],
             [
              0.4444444444444444,
              "#bd3786"
             ],
             [
              0.5555555555555556,
              "#d8576b"
             ],
             [
              0.6666666666666666,
              "#ed7953"
             ],
             [
              0.7777777777777778,
              "#fb9f3a"
             ],
             [
              0.8888888888888888,
              "#fdca26"
             ],
             [
              1,
              "#f0f921"
             ]
            ],
            "type": "surface"
           }
          ],
          "table": [
           {
            "cells": {
             "fill": {
              "color": "#EBF0F8"
             },
             "line": {
              "color": "white"
             }
            },
            "header": {
             "fill": {
              "color": "#C8D4E3"
             },
             "line": {
              "color": "white"
             }
            },
            "type": "table"
           }
          ]
         },
         "layout": {
          "annotationdefaults": {
           "arrowcolor": "#2a3f5f",
           "arrowhead": 0,
           "arrowwidth": 1
          },
          "autotypenumbers": "strict",
          "coloraxis": {
           "colorbar": {
            "outlinewidth": 0,
            "ticks": ""
           }
          },
          "colorscale": {
           "diverging": [
            [
             0,
             "#8e0152"
            ],
            [
             0.1,
             "#c51b7d"
            ],
            [
             0.2,
             "#de77ae"
            ],
            [
             0.3,
             "#f1b6da"
            ],
            [
             0.4,
             "#fde0ef"
            ],
            [
             0.5,
             "#f7f7f7"
            ],
            [
             0.6,
             "#e6f5d0"
            ],
            [
             0.7,
             "#b8e186"
            ],
            [
             0.8,
             "#7fbc41"
            ],
            [
             0.9,
             "#4d9221"
            ],
            [
             1,
             "#276419"
            ]
           ],
           "sequential": [
            [
             0,
             "#0d0887"
            ],
            [
             0.1111111111111111,
             "#46039f"
            ],
            [
             0.2222222222222222,
             "#7201a8"
            ],
            [
             0.3333333333333333,
             "#9c179e"
            ],
            [
             0.4444444444444444,
             "#bd3786"
            ],
            [
             0.5555555555555556,
             "#d8576b"
            ],
            [
             0.6666666666666666,
             "#ed7953"
            ],
            [
             0.7777777777777778,
             "#fb9f3a"
            ],
            [
             0.8888888888888888,
             "#fdca26"
            ],
            [
             1,
             "#f0f921"
            ]
           ],
           "sequentialminus": [
            [
             0,
             "#0d0887"
            ],
            [
             0.1111111111111111,
             "#46039f"
            ],
            [
             0.2222222222222222,
             "#7201a8"
            ],
            [
             0.3333333333333333,
             "#9c179e"
            ],
            [
             0.4444444444444444,
             "#bd3786"
            ],
            [
             0.5555555555555556,
             "#d8576b"
            ],
            [
             0.6666666666666666,
             "#ed7953"
            ],
            [
             0.7777777777777778,
             "#fb9f3a"
            ],
            [
             0.8888888888888888,
             "#fdca26"
            ],
            [
             1,
             "#f0f921"
            ]
           ]
          },
          "colorway": [
           "#636efa",
           "#EF553B",
           "#00cc96",
           "#ab63fa",
           "#FFA15A",
           "#19d3f3",
           "#FF6692",
           "#B6E880",
           "#FF97FF",
           "#FECB52"
          ],
          "font": {
           "color": "#2a3f5f"
          },
          "geo": {
           "bgcolor": "white",
           "lakecolor": "white",
           "landcolor": "#E5ECF6",
           "showlakes": true,
           "showland": true,
           "subunitcolor": "white"
          },
          "hoverlabel": {
           "align": "left"
          },
          "hovermode": "closest",
          "mapbox": {
           "style": "light"
          },
          "paper_bgcolor": "white",
          "plot_bgcolor": "#E5ECF6",
          "polar": {
           "angularaxis": {
            "gridcolor": "white",
            "linecolor": "white",
            "ticks": ""
           },
           "bgcolor": "#E5ECF6",
           "radialaxis": {
            "gridcolor": "white",
            "linecolor": "white",
            "ticks": ""
           }
          },
          "scene": {
           "xaxis": {
            "backgroundcolor": "#E5ECF6",
            "gridcolor": "white",
            "gridwidth": 2,
            "linecolor": "white",
            "showbackground": true,
            "ticks": "",
            "zerolinecolor": "white"
           },
           "yaxis": {
            "backgroundcolor": "#E5ECF6",
            "gridcolor": "white",
            "gridwidth": 2,
            "linecolor": "white",
            "showbackground": true,
            "ticks": "",
            "zerolinecolor": "white"
           },
           "zaxis": {
            "backgroundcolor": "#E5ECF6",
            "gridcolor": "white",
            "gridwidth": 2,
            "linecolor": "white",
            "showbackground": true,
            "ticks": "",
            "zerolinecolor": "white"
           }
          },
          "shapedefaults": {
           "line": {
            "color": "#2a3f5f"
           }
          },
          "ternary": {
           "aaxis": {
            "gridcolor": "white",
            "linecolor": "white",
            "ticks": ""
           },
           "baxis": {
            "gridcolor": "white",
            "linecolor": "white",
            "ticks": ""
           },
           "bgcolor": "#E5ECF6",
           "caxis": {
            "gridcolor": "white",
            "linecolor": "white",
            "ticks": ""
           }
          },
          "title": {
           "x": 0.05
          },
          "xaxis": {
           "automargin": true,
           "gridcolor": "white",
           "linecolor": "white",
           "ticks": "",
           "title": {
            "standoff": 15
           },
           "zerolinecolor": "white",
           "zerolinewidth": 2
          },
          "yaxis": {
           "automargin": true,
           "gridcolor": "white",
           "linecolor": "white",
           "ticks": "",
           "title": {
            "standoff": 15
           },
           "zerolinecolor": "white",
           "zerolinewidth": 2
          }
         }
        },
        "xaxis": {
         "anchor": "y",
         "domain": [
          0,
          1
         ],
         "title": {
          "text": "duration_seconds"
         }
        },
        "yaxis": {
         "anchor": "x",
         "domain": [
          0,
          1
         ]
        }
       }
      }
     },
     "metadata": {},
     "output_type": "display_data"
    }
   ],
   "source": [
    "px.box(df,x='duration_seconds') "
   ]
  },
  {
   "cell_type": "markdown",
   "metadata": {},
   "source": [
    "La durée des morceaux ne semble pas suivre une loi normale"
   ]
  },
  {
   "cell_type": "code",
   "execution_count": 36,
   "metadata": {},
   "outputs": [
    {
     "data": {
      "image/png": "[encoded data removed]",
      "text/plain": [
       "<Figure size 640x480 with 1 Axes>"
      ]
     },
     "metadata": {},
     "output_type": "display_data"
    }
   ],
   "source": [
    "sm.qqplot(df['duration_seconds'], fit = True, line = '45') ;"
   ]
  },
  {
   "cell_type": "markdown",
   "metadata": {},
   "source": [
    "le tempo semble suivre une loi normale"
   ]
  },
  {
   "cell_type": "code",
   "execution_count": 37,
   "metadata": {},
   "outputs": [
    {
     "data": {
      "image/png": "[encoded data removed]",
      "text/plain": [
       "<Figure size 640x480 with 1 Axes>"
      ]
     },
     "metadata": {},
     "output_type": "display_data"
    }
   ],
   "source": [
    "sm.qqplot(df['tempo'], fit = True, line = '45');"
   ]
  },
  {
   "cell_type": "code",
   "execution_count": 38,
   "metadata": {},
   "outputs": [
    {
     "name": "stdout",
     "output_type": "stream",
     "text": [
      "0.13689393093145663 0.0011403915982443414\n"
     ]
    }
   ],
   "source": [
    "correl,p_value_pearson = sp.pearsonr(df['loudness'],df['danceability'])\n",
    "print(correl,p_value_pearson)"
   ]
  }
 ],
 "metadata": {
  "kernelspec": {
   "display_name": ".venv",
   "language": "python",
   "name": "python3"
  },
  "language_info": {
   "codemirror_mode": {
    "name": "ipython",
    "version": 3
   },
   "file_extension": ".py",
   "mimetype": "text/x-python",
   "name": "python",
   "nbconvert_exporter": "python",
   "pygments_lexer": "ipython3",
   "version": "3.10.11"
  }
 },
 "nbformat": 4,
 "nbformat_minor": 2
}

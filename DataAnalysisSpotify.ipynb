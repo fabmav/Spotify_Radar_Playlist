{
 "cells": [
  {
   "cell_type": "markdown",
   "metadata": {},
   "source": []
  },
  {
   "cell_type": "code",
   "execution_count": null,
   "metadata": {},
   "outputs": [],
   "source": [
    "# !pip install plotly"
   ]
  },
  {
   "cell_type": "code",
   "execution_count": null,
   "metadata": {},
   "outputs": [],
   "source": [
    "import pandas as pd\n",
    "import numpy as np\n",
    "import matplotlib.pyplot as plt\n",
    "import seaborn as sns\n",
    "import statsmodels.api as sm\n",
    "import statsmodels.formula.api as smf\n",
    "from statsmodels.stats.multicomp import pairwise_tukeyhsd\n",
    "import scipy.stats as sp\n",
    "import plotly.express as px\n",
    "%matplotlib inline"
   ]
  },
  {
   "cell_type": "code",
   "execution_count": null,
   "metadata": {},
   "outputs": [],
   "source": [
    "df=pd.read_csv('stats/stat_audio_features.txt',index_col='track_id')\n",
    "df.head()"
   ]
  },
  {
   "cell_type": "markdown",
   "metadata": {},
   "source": [
    "Valence, Energy and Danceability are intersting because these are somewhat subjective criteria defined by the spotify team.\n",
    "key and mode can be easily determined. The question is : does Spotify is right.\n",
    "loudness, tempo, duration are objective criteria that can be easily calculated.\n",
    "Let's add a combined score of danceability, energy and valence to get an overall idea of the mood of the music"
   ]
  },
  {
   "cell_type": "code",
   "execution_count": null,
   "metadata": {},
   "outputs": [],
   "source": [
    "df['mood']= df['danceability']*df['energy']*df['valence']"
   ]
  },
  {
   "cell_type": "code",
   "execution_count": null,
   "metadata": {},
   "outputs": [],
   "source": [
    "df.info()"
   ]
  },
  {
   "cell_type": "markdown",
   "metadata": {},
   "source": [
    "transforming key and mode in plain text. Converting milliseconds to seconds"
   ]
  },
  {
   "cell_type": "code",
   "execution_count": null,
   "metadata": {},
   "outputs": [],
   "source": [
    "def minute_seconds(x) : \n",
    "    rounded = round(x/1000)\n",
    "    minutes = rounded//60\n",
    "    seconds = rounded%60\n",
    "    return str(str(minutes)+\"\"\"'\"\"\"+str(seconds))\n",
    "\n",
    "df['duration_seconds']=round(df['duration_ms']/1000)\n",
    "df[\"minute_seconds\"] = df[\"duration_ms\"].apply(minute_seconds)"
   ]
  },
  {
   "cell_type": "code",
   "execution_count": null,
   "metadata": {},
   "outputs": [],
   "source": [
    "dico_mode = {0:\"minor\",1:\"major\"}\n",
    "df[\"major_minor\"]= df[\"mode\"].map(dico_mode)"
   ]
  },
  {
   "cell_type": "code",
   "execution_count": null,
   "metadata": {},
   "outputs": [],
   "source": [
    "dico_key = {0:\"C\",1:\"C#\",2:\"D\",3:\"D#\",4:\"E\",5:\"F\",6:\"F#\",7:\"G\",8:\"G#\",9:\"A\",10:\"A#\",11:\"B,\"}\n",
    "df[\"key_name\"]= df[\"key\"].map(dico_key)"
   ]
  },
  {
   "cell_type": "code",
   "execution_count": null,
   "metadata": {},
   "outputs": [],
   "source": [
    "\n",
    "df['key_mode'] = df['key_name'].str.cat(df['major_minor'],sep=' ')"
   ]
  },
  {
   "cell_type": "markdown",
   "metadata": {},
   "source": [
    "we can add more info by adding track popularity and track name(for readability)"
   ]
  },
  {
   "cell_type": "code",
   "execution_count": null,
   "metadata": {},
   "outputs": [],
   "source": [
    "df_tracks=pd.read_csv('stats/stat_tracks_popularity.txt',index_col='track_id',sep=\";\")\n",
    "df_tracks.head()"
   ]
  },
  {
   "cell_type": "code",
   "execution_count": null,
   "metadata": {},
   "outputs": [],
   "source": [
    "df = df.merge(right = df_tracks,on=\"track_id\")\n",
    "df.head()"
   ]
  },
  {
   "cell_type": "code",
   "execution_count": null,
   "metadata": {},
   "outputs": [],
   "source": [
    "df.describe(include=\"all\")"
   ]
  },
  {
   "cell_type": "markdown",
   "metadata": {},
   "source": [
    "Let's analyse valence, danceability and energy"
   ]
  },
  {
   "cell_type": "code",
   "execution_count": null,
   "metadata": {},
   "outputs": [],
   "source": [
    "plt.figure(figsize=(50,10))\n",
    "plt.subplot(131)\n",
    "sns.histplot(data=df,x='valence')\n",
    "plt.title('valence')\n",
    "plt.subplot(132)\n",
    "sns.histplot(data=df,x='danceability')\n",
    "plt.title('danceability')\n",
    "plt.subplot(133)\n",
    "sns.histplot(data=df,x='energy')\n",
    "plt.title('energy');"
   ]
  },
  {
   "cell_type": "code",
   "execution_count": null,
   "metadata": {},
   "outputs": [],
   "source": [
    "plt.figure(figsize=(30,10))\n",
    "plt.subplot(131)\n",
    "sns.boxplot(data=df,x='valence')\n",
    "plt.title('valence')\n",
    "plt.subplot(132)\n",
    "sns.boxplot(data=df,x='danceability')\n",
    "plt.title('danceability')\n",
    "plt.subplot(133)\n",
    "sns.boxplot(data=df,x='energy')\n",
    "plt.title('energy');"
   ]
  },
  {
   "cell_type": "code",
   "execution_count": null,
   "metadata": {},
   "outputs": [],
   "source": [
    "sm.qqplot(df['valence'], fit = True, line = '45');"
   ]
  },
  {
   "cell_type": "code",
   "execution_count": null,
   "metadata": {},
   "outputs": [],
   "source": [
    "sm.qqplot(df['danceability'], fit = True, line = '45');"
   ]
  },
  {
   "cell_type": "code",
   "execution_count": null,
   "metadata": {},
   "outputs": [],
   "source": [
    "sm.qqplot(df['energy'], fit = True, line = '45');"
   ]
  },
  {
   "cell_type": "code",
   "execution_count": null,
   "metadata": {},
   "outputs": [],
   "source": [
    "sns.heatmap(data=df.select_dtypes(include=['number']).corr(),annot=True,fmt='.2f')"
   ]
  },
  {
   "cell_type": "code",
   "execution_count": null,
   "metadata": {},
   "outputs": [],
   "source": [
    "sns.countplot(data=df,x='key_name')"
   ]
  },
  {
   "cell_type": "markdown",
   "metadata": {},
   "source": [
    "Key is defined by the Pitch Class Notation. https://en.wikipedia.org/wiki/Pitch_class\n",
    "where 0 is the key of C, 1 is C# and so on .\n",
    "Interessingly, the most occuring key is not C but C#.\n",
    "The least occuring key is the key of D# / E flat"
   ]
  },
  {
   "cell_type": "markdown",
   "metadata": {},
   "source": [
    "the key is not everything. One needs to know the mode to get a better grasp of the mood of the music."
   ]
  },
  {
   "cell_type": "code",
   "execution_count": null,
   "metadata": {},
   "outputs": [],
   "source": [
    "sns.countplot(data=df,x='major_minor')"
   ]
  },
  {
   "cell_type": "code",
   "execution_count": null,
   "metadata": {},
   "outputs": [],
   "source": [
    "sns.countplot(data=df,x='key_name',hue='major_minor')"
   ]
  },
  {
   "cell_type": "markdown",
   "metadata": {},
   "source": [
    "so it seems that some key are mostly associated with a specific mode : G, D, C and C#. while others are mainly played in minor however not by a big margin : D#, F, F#, A#, B."
   ]
  },
  {
   "cell_type": "markdown",
   "metadata": {},
   "source": [
    "Is the higher occurence of minor mode in B key vs other group is statistically significant?\n",
    "the Chi2 independance test can help assess wether two categorical variables are independant or not."
   ]
  },
  {
   "cell_type": "code",
   "execution_count": null,
   "metadata": {},
   "outputs": [],
   "source": [
    "df_key_mode = df[[\"major_minor\",\"key_name\"]].reset_index().groupby([\"major_minor\",\"key_name\"]).count().reset_index()\n",
    "df_key_mode = df_key_mode.pivot(index=\"key_name\",columns=\"major_minor\",values=\"track_id\")\n",
    "df_key_mode.head(20)"
   ]
  },
  {
   "cell_type": "code",
   "execution_count": null,
   "metadata": {},
   "outputs": [],
   "source": [
    "chi2, p, dof, expected = sp.chi2_contingency(df_key_mode)\n",
    "\n",
    "print(\"Chi-square statistic:\", chi2)\n",
    "print(\"P-value:\", p)\n",
    "print(\"Degrees of freedom:\", dof)\n",
    "print(\"Expected frequencies:\")\n",
    "print(expected)"
   ]
  },
  {
   "cell_type": "markdown",
   "metadata": {},
   "source": [
    "based on these results we can conclude that there is a significant relationship between key and mode.\n",
    "Meaning that some keys are statistically more often used with a preferred mode than the other in a significant way."
   ]
  },
  {
   "cell_type": "markdown",
   "metadata": {},
   "source": [
    "Is  Louder more energetic? We can see that correlation is quite strong at 0.75. But is it statistically significant?\n",
    "We can use a spearman test to analyse that as these are two continuous numeric variables"
   ]
  },
  {
   "cell_type": "code",
   "execution_count": null,
   "metadata": {},
   "outputs": [],
   "source": [
    "correl,p_value_pearson = sp.spearmanr(df[\"loudness\"],df[\"energy\"])\n",
    "print(correl,p_value_pearson)"
   ]
  },
  {
   "cell_type": "markdown",
   "metadata": {},
   "source": [
    "looking at the p value we can assess that the correlation between loudness and energy is statistically significant"
   ]
  },
  {
   "cell_type": "markdown",
   "metadata": {},
   "source": [
    "what about energy and valence? Is Happy music more energetic than sad music?"
   ]
  },
  {
   "cell_type": "code",
   "execution_count": null,
   "metadata": {},
   "outputs": [],
   "source": [
    "correl,p_value_pearson = sp.spearmanr(df[\"loudness\"],df[\"valence\"])\n",
    "print(correl,p_value_pearson)"
   ]
  },
  {
   "cell_type": "markdown",
   "metadata": {},
   "source": [
    "Once again correlation is statistically significant. Happier music seems to be noted more energetic."
   ]
  },
  {
   "cell_type": "markdown",
   "metadata": {},
   "source": [
    "What about valence vs danceability? Is Dance music, happier music?"
   ]
  },
  {
   "cell_type": "code",
   "execution_count": null,
   "metadata": {},
   "outputs": [],
   "source": [
    "correl,p_value_pearson = sp.spearmanr(df[\"danceability\"],df[\"valence\"])\n",
    "print(correl,p_value_pearson)"
   ]
  },
  {
   "cell_type": "markdown",
   "metadata": {},
   "source": [
    "looks like it is."
   ]
  },
  {
   "cell_type": "markdown",
   "metadata": {},
   "source": [
    "So the more energetic the music, the more likely it is to be of a positive mood and the more likely it is to be danceable"
   ]
  },
  {
   "cell_type": "markdown",
   "metadata": {},
   "source": [
    "lets cross check key/mode vs the mood (danceability x energy x valence)"
   ]
  },
  {
   "cell_type": "code",
   "execution_count": null,
   "metadata": {},
   "outputs": [],
   "source": [
    "result=smf.ols('mood ~ key_mode', data=df).fit()\n",
    "sm.stats.anova_lm(result)"
   ]
  },
  {
   "cell_type": "code",
   "execution_count": null,
   "metadata": {},
   "outputs": [],
   "source": [
    "tukey_results = pairwise_tukeyhsd(df['mood'], df['key_mode'])\n",
    "\n"
   ]
  },
  {
   "cell_type": "code",
   "execution_count": null,
   "metadata": {},
   "outputs": [],
   "source": [
    "df_results = pd.DataFrame(data=tukey_results._results_table.data[1:], columns=tukey_results._results_table.data[0])"
   ]
  },
  {
   "cell_type": "code",
   "execution_count": null,
   "metadata": {},
   "outputs": [],
   "source": [
    "df_results.info()"
   ]
  },
  {
   "cell_type": "code",
   "execution_count": null,
   "metadata": {},
   "outputs": [],
   "source": [
    "df_turkey_significant = df_results[df_results['p-adj']<0.05]\n",
    "df_turkey_significant.info()"
   ]
  },
  {
   "cell_type": "code",
   "execution_count": null,
   "metadata": {},
   "outputs": [],
   "source": [
    "sns.countplot(data=df,x='time_signature')"
   ]
  },
  {
   "cell_type": "markdown",
   "metadata": {},
   "source": [
    "what genre are associated of 5/4? is it accurate?\n",
    "same question for 3/4"
   ]
  },
  {
   "cell_type": "code",
   "execution_count": null,
   "metadata": {},
   "outputs": [],
   "source": [
    "sns.boxplot(data=df,x='duration_seconds')"
   ]
  },
  {
   "cell_type": "code",
   "execution_count": null,
   "metadata": {},
   "outputs": [],
   "source": [
    "df_temp = df[df['time_signature']==5]\n",
    "df_temp.head()"
   ]
  },
  {
   "cell_type": "code",
   "execution_count": null,
   "metadata": {},
   "outputs": [],
   "source": [
    "px.box(df,x='duration_seconds') "
   ]
  },
  {
   "cell_type": "markdown",
   "metadata": {},
   "source": [
    "La durée des morceaux ne semble pas suivre une loi normale"
   ]
  },
  {
   "cell_type": "code",
   "execution_count": null,
   "metadata": {},
   "outputs": [],
   "source": [
    "sm.qqplot(df['duration_seconds'], fit = True, line = '45') ;"
   ]
  },
  {
   "cell_type": "markdown",
   "metadata": {},
   "source": [
    "le tempo semble suivre une loi normale"
   ]
  },
  {
   "cell_type": "code",
   "execution_count": null,
   "metadata": {},
   "outputs": [],
   "source": [
    "sm.qqplot(df['tempo'], fit = True, line = '45');"
   ]
  },
  {
   "cell_type": "code",
   "execution_count": null,
   "metadata": {},
   "outputs": [],
   "source": [
    "correl,p_value_pearson = sp.pearsonr(df['loudness'],df['danceability'])\n",
    "print(correl,p_value_pearson)"
   ]
  }
 ],
 "metadata": {
  "kernelspec": {
   "display_name": "Python 3",
   "language": "python",
   "name": "python3"
  },
  "language_info": {
   "codemirror_mode": {
    "name": "ipython",
    "version": 3
   },
   "file_extension": ".py",
   "mimetype": "text/x-python",
   "name": "python",
   "nbconvert_exporter": "python",
   "pygments_lexer": "ipython3",
   "version": "3.10.11"
  }
 },
 "nbformat": 4,
 "nbformat_minor": 2
}
